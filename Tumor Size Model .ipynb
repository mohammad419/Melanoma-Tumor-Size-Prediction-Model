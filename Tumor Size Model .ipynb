{
 "cells": [
  {
   "cell_type": "markdown",
   "metadata": {},
   "source": [
    "# Data Science Regression Project: Melanoma Tumor Size Prediction\n",
    "\n",
    "\n",
    "## Loading Required Libraries"
   ]
  },
  {
   "cell_type": "code",
   "execution_count": 1,
   "metadata": {},
   "outputs": [],
   "source": [
    "import pandas as pd\n",
    "import numpy as np\n",
    "import matplotlib.pyplot as plt\n",
    "import seaborn as sns\n",
    "\n",
    "from sklearn.ensemble import ExtraTreesRegressor, RandomForestRegressor, StackingRegressor\n",
    "from lightgbm import LGBMRegressor\n",
    "from xgboost import XGBRegressor, XGBRFRegressor\n",
    "from catboost import CatBoostRegressor\n",
    "\n",
    "from sklearn.model_selection import cross_val_score\n",
    "from sklearn.metrics import mean_squared_error, make_scorer\n",
    "\n",
    "from bayes_opt import BayesianOptimization\n",
    "from bayes_opt.util import Colours"
   ]
  },
  {
   "cell_type": "markdown",
   "metadata": {},
   "source": [
    "# Data Load: Melanoma Tumor Size into a dataframe"
   ]
  },
  {
   "cell_type": "code",
   "execution_count": 10,
   "metadata": {},
   "outputs": [],
   "source": [
    "train = pd.read_csv(r'E:/Data_Sets/Train_15.csv')"
   ]
  },
  {
   "cell_type": "code",
   "execution_count": 11,
   "metadata": {},
   "outputs": [
    {
     "data": {
      "text/html": [
       "<div>\n",
       "<style scoped>\n",
       "    .dataframe tbody tr th:only-of-type {\n",
       "        vertical-align: middle;\n",
       "    }\n",
       "\n",
       "    .dataframe tbody tr th {\n",
       "        vertical-align: top;\n",
       "    }\n",
       "\n",
       "    .dataframe thead th {\n",
       "        text-align: right;\n",
       "    }\n",
       "</style>\n",
       "<table border=\"1\" class=\"dataframe\">\n",
       "  <thead>\n",
       "    <tr style=\"text-align: right;\">\n",
       "      <th></th>\n",
       "      <th>mass_npea</th>\n",
       "      <th>size_npear</th>\n",
       "      <th>malign_ratio</th>\n",
       "      <th>damage_size</th>\n",
       "      <th>exposed_area</th>\n",
       "      <th>std_dev_malign</th>\n",
       "      <th>err_malign</th>\n",
       "      <th>malign_penalty</th>\n",
       "      <th>damage_ratio</th>\n",
       "      <th>tumor_size</th>\n",
       "    </tr>\n",
       "  </thead>\n",
       "  <tbody>\n",
       "    <tr>\n",
       "      <th>0</th>\n",
       "      <td>6930.90</td>\n",
       "      <td>2919.02</td>\n",
       "      <td>0.42116</td>\n",
       "      <td>51.8298</td>\n",
       "      <td>9.888294e+05</td>\n",
       "      <td>109.487</td>\n",
       "      <td>2758.76</td>\n",
       "      <td>72</td>\n",
       "      <td>39.3620</td>\n",
       "      <td>14.103</td>\n",
       "    </tr>\n",
       "    <tr>\n",
       "      <th>1</th>\n",
       "      <td>15635.70</td>\n",
       "      <td>4879.36</td>\n",
       "      <td>0.31206</td>\n",
       "      <td>223.5500</td>\n",
       "      <td>2.058426e+06</td>\n",
       "      <td>248.881</td>\n",
       "      <td>5952.53</td>\n",
       "      <td>240</td>\n",
       "      <td>22.0253</td>\n",
       "      <td>2.648</td>\n",
       "    </tr>\n",
       "    <tr>\n",
       "      <th>2</th>\n",
       "      <td>10376.20</td>\n",
       "      <td>2613.88</td>\n",
       "      <td>0.25191</td>\n",
       "      <td>127.3370</td>\n",
       "      <td>1.434676e+06</td>\n",
       "      <td>160.093</td>\n",
       "      <td>4635.26</td>\n",
       "      <td>73</td>\n",
       "      <td>29.9963</td>\n",
       "      <td>1.688</td>\n",
       "    </tr>\n",
       "    <tr>\n",
       "      <th>3</th>\n",
       "      <td>13093.80</td>\n",
       "      <td>4510.06</td>\n",
       "      <td>0.34444</td>\n",
       "      <td>155.4400</td>\n",
       "      <td>1.812195e+06</td>\n",
       "      <td>173.015</td>\n",
       "      <td>5273.87</td>\n",
       "      <td>32</td>\n",
       "      <td>28.1354</td>\n",
       "      <td>3.796</td>\n",
       "    </tr>\n",
       "    <tr>\n",
       "      <th>4</th>\n",
       "      <td>7545.21</td>\n",
       "      <td>2882.36</td>\n",
       "      <td>0.38201</td>\n",
       "      <td>85.1237</td>\n",
       "      <td>1.043918e+06</td>\n",
       "      <td>124.414</td>\n",
       "      <td>3263.35</td>\n",
       "      <td>57</td>\n",
       "      <td>35.0200</td>\n",
       "      <td>18.023</td>\n",
       "    </tr>\n",
       "  </tbody>\n",
       "</table>\n",
       "</div>"
      ],
      "text/plain": [
       "   mass_npea  size_npear  malign_ratio  damage_size  exposed_area  \\\n",
       "0    6930.90     2919.02       0.42116      51.8298  9.888294e+05   \n",
       "1   15635.70     4879.36       0.31206     223.5500  2.058426e+06   \n",
       "2   10376.20     2613.88       0.25191     127.3370  1.434676e+06   \n",
       "3   13093.80     4510.06       0.34444     155.4400  1.812195e+06   \n",
       "4    7545.21     2882.36       0.38201      85.1237  1.043918e+06   \n",
       "\n",
       "   std_dev_malign  err_malign  malign_penalty  damage_ratio  tumor_size  \n",
       "0         109.487     2758.76              72       39.3620      14.103  \n",
       "1         248.881     5952.53             240       22.0253       2.648  \n",
       "2         160.093     4635.26              73       29.9963       1.688  \n",
       "3         173.015     5273.87              32       28.1354       3.796  \n",
       "4         124.414     3263.35              57       35.0200      18.023  "
      ]
     },
     "execution_count": 11,
     "metadata": {},
     "output_type": "execute_result"
    }
   ],
   "source": [
    "train.head()"
   ]
  },
  {
   "cell_type": "code",
   "execution_count": 12,
   "metadata": {},
   "outputs": [
    {
     "data": {
      "text/html": [
       "<div>\n",
       "<style scoped>\n",
       "    .dataframe tbody tr th:only-of-type {\n",
       "        vertical-align: middle;\n",
       "    }\n",
       "\n",
       "    .dataframe tbody tr th {\n",
       "        vertical-align: top;\n",
       "    }\n",
       "\n",
       "    .dataframe thead th {\n",
       "        text-align: right;\n",
       "    }\n",
       "</style>\n",
       "<table border=\"1\" class=\"dataframe\">\n",
       "  <thead>\n",
       "    <tr style=\"text-align: right;\">\n",
       "      <th></th>\n",
       "      <th>mass_npea</th>\n",
       "      <th>size_npear</th>\n",
       "      <th>malign_ratio</th>\n",
       "      <th>damage_size</th>\n",
       "      <th>exposed_area</th>\n",
       "      <th>std_dev_malign</th>\n",
       "      <th>err_malign</th>\n",
       "      <th>malign_penalty</th>\n",
       "      <th>damage_ratio</th>\n",
       "      <th>tumor_size</th>\n",
       "    </tr>\n",
       "  </thead>\n",
       "  <tbody>\n",
       "    <tr>\n",
       "      <th>count</th>\n",
       "      <td>9146.000000</td>\n",
       "      <td>9146.000000</td>\n",
       "      <td>9146.000000</td>\n",
       "      <td>9146.000000</td>\n",
       "      <td>9.146000e+03</td>\n",
       "      <td>9146.000000</td>\n",
       "      <td>9146.000000</td>\n",
       "      <td>9146.000000</td>\n",
       "      <td>9146.000000</td>\n",
       "      <td>9146.000000</td>\n",
       "    </tr>\n",
       "    <tr>\n",
       "      <th>mean</th>\n",
       "      <td>9903.052174</td>\n",
       "      <td>3032.827837</td>\n",
       "      <td>0.303083</td>\n",
       "      <td>103.902118</td>\n",
       "      <td>1.372442e+06</td>\n",
       "      <td>146.304239</td>\n",
       "      <td>3992.936256</td>\n",
       "      <td>69.849661</td>\n",
       "      <td>34.461652</td>\n",
       "      <td>7.723348</td>\n",
       "    </tr>\n",
       "    <tr>\n",
       "      <th>std</th>\n",
       "      <td>4060.577116</td>\n",
       "      <td>1462.334147</td>\n",
       "      <td>0.062533</td>\n",
       "      <td>55.456862</td>\n",
       "      <td>5.646773e+05</td>\n",
       "      <td>70.512177</td>\n",
       "      <td>1780.672859</td>\n",
       "      <td>55.785332</td>\n",
       "      <td>5.972808</td>\n",
       "      <td>6.086852</td>\n",
       "    </tr>\n",
       "    <tr>\n",
       "      <th>min</th>\n",
       "      <td>2864.760000</td>\n",
       "      <td>510.530000</td>\n",
       "      <td>0.114820</td>\n",
       "      <td>10.310100</td>\n",
       "      <td>3.878534e+05</td>\n",
       "      <td>31.970400</td>\n",
       "      <td>1089.190000</td>\n",
       "      <td>0.000000</td>\n",
       "      <td>15.228000</td>\n",
       "      <td>0.000000</td>\n",
       "    </tr>\n",
       "    <tr>\n",
       "      <th>25%</th>\n",
       "      <td>6988.420000</td>\n",
       "      <td>1983.657500</td>\n",
       "      <td>0.259053</td>\n",
       "      <td>64.012525</td>\n",
       "      <td>9.596873e+05</td>\n",
       "      <td>95.853900</td>\n",
       "      <td>3177.682500</td>\n",
       "      <td>31.000000</td>\n",
       "      <td>30.290225</td>\n",
       "      <td>2.320000</td>\n",
       "    </tr>\n",
       "    <tr>\n",
       "      <th>50%</th>\n",
       "      <td>8895.965000</td>\n",
       "      <td>2684.330000</td>\n",
       "      <td>0.301055</td>\n",
       "      <td>88.458300</td>\n",
       "      <td>1.237057e+06</td>\n",
       "      <td>126.138500</td>\n",
       "      <td>3846.320000</td>\n",
       "      <td>54.000000</td>\n",
       "      <td>35.245750</td>\n",
       "      <td>5.060500</td>\n",
       "    </tr>\n",
       "    <tr>\n",
       "      <th>75%</th>\n",
       "      <td>12119.950000</td>\n",
       "      <td>3830.745000</td>\n",
       "      <td>0.343002</td>\n",
       "      <td>134.209000</td>\n",
       "      <td>1.693083e+06</td>\n",
       "      <td>182.251500</td>\n",
       "      <td>4664.577500</td>\n",
       "      <td>91.000000</td>\n",
       "      <td>38.806075</td>\n",
       "      <td>13.336000</td>\n",
       "    </tr>\n",
       "    <tr>\n",
       "      <th>max</th>\n",
       "      <td>36995.400000</td>\n",
       "      <td>13535.000000</td>\n",
       "      <td>0.525300</td>\n",
       "      <td>346.420000</td>\n",
       "      <td>4.978616e+06</td>\n",
       "      <td>528.890000</td>\n",
       "      <td>91983.700000</td>\n",
       "      <td>340.000000</td>\n",
       "      <td>46.546400</td>\n",
       "      <td>20.999000</td>\n",
       "    </tr>\n",
       "  </tbody>\n",
       "</table>\n",
       "</div>"
      ],
      "text/plain": [
       "          mass_npea    size_npear  malign_ratio  damage_size  exposed_area  \\\n",
       "count   9146.000000   9146.000000   9146.000000  9146.000000  9.146000e+03   \n",
       "mean    9903.052174   3032.827837      0.303083   103.902118  1.372442e+06   \n",
       "std     4060.577116   1462.334147      0.062533    55.456862  5.646773e+05   \n",
       "min     2864.760000    510.530000      0.114820    10.310100  3.878534e+05   \n",
       "25%     6988.420000   1983.657500      0.259053    64.012525  9.596873e+05   \n",
       "50%     8895.965000   2684.330000      0.301055    88.458300  1.237057e+06   \n",
       "75%    12119.950000   3830.745000      0.343002   134.209000  1.693083e+06   \n",
       "max    36995.400000  13535.000000      0.525300   346.420000  4.978616e+06   \n",
       "\n",
       "       std_dev_malign    err_malign  malign_penalty  damage_ratio   tumor_size  \n",
       "count     9146.000000   9146.000000     9146.000000   9146.000000  9146.000000  \n",
       "mean       146.304239   3992.936256       69.849661     34.461652     7.723348  \n",
       "std         70.512177   1780.672859       55.785332      5.972808     6.086852  \n",
       "min         31.970400   1089.190000        0.000000     15.228000     0.000000  \n",
       "25%         95.853900   3177.682500       31.000000     30.290225     2.320000  \n",
       "50%        126.138500   3846.320000       54.000000     35.245750     5.060500  \n",
       "75%        182.251500   4664.577500       91.000000     38.806075    13.336000  \n",
       "max        528.890000  91983.700000      340.000000     46.546400    20.999000  "
      ]
     },
     "execution_count": 12,
     "metadata": {},
     "output_type": "execute_result"
    }
   ],
   "source": [
    "train.describe()"
   ]
  },
  {
   "cell_type": "code",
   "execution_count": 13,
   "metadata": {},
   "outputs": [],
   "source": [
    "target = train.pop('tumor_size')"
   ]
  },
  {
   "cell_type": "markdown",
   "metadata": {},
   "source": [
    "## Transformation "
   ]
  },
  {
   "cell_type": "code",
   "execution_count": 14,
   "metadata": {},
   "outputs": [
    {
     "data": {
      "text/html": [
       "<div>\n",
       "<style scoped>\n",
       "    .dataframe tbody tr th:only-of-type {\n",
       "        vertical-align: middle;\n",
       "    }\n",
       "\n",
       "    .dataframe tbody tr th {\n",
       "        vertical-align: top;\n",
       "    }\n",
       "\n",
       "    .dataframe thead th {\n",
       "        text-align: right;\n",
       "    }\n",
       "</style>\n",
       "<table border=\"1\" class=\"dataframe\">\n",
       "  <thead>\n",
       "    <tr style=\"text-align: right;\">\n",
       "      <th></th>\n",
       "      <th>mass_npea</th>\n",
       "      <th>size_npear</th>\n",
       "      <th>malign_ratio</th>\n",
       "      <th>damage_size</th>\n",
       "      <th>exposed_area</th>\n",
       "      <th>std_dev_malign</th>\n",
       "      <th>err_malign</th>\n",
       "      <th>malign_penalty</th>\n",
       "      <th>damage_ratio</th>\n",
       "    </tr>\n",
       "  </thead>\n",
       "  <tbody>\n",
       "    <tr>\n",
       "      <th>0</th>\n",
       "      <td>8.843889</td>\n",
       "      <td>7.979346</td>\n",
       "      <td>0.42116</td>\n",
       "      <td>51.8298</td>\n",
       "      <td>13.804278</td>\n",
       "      <td>109.487</td>\n",
       "      <td>7.922899</td>\n",
       "      <td>72</td>\n",
       "      <td>39.3620</td>\n",
       "    </tr>\n",
       "    <tr>\n",
       "      <th>1</th>\n",
       "      <td>9.657376</td>\n",
       "      <td>8.492974</td>\n",
       "      <td>0.31206</td>\n",
       "      <td>223.5500</td>\n",
       "      <td>14.537453</td>\n",
       "      <td>248.881</td>\n",
       "      <td>8.691740</td>\n",
       "      <td>240</td>\n",
       "      <td>22.0253</td>\n",
       "    </tr>\n",
       "    <tr>\n",
       "      <th>2</th>\n",
       "      <td>9.247366</td>\n",
       "      <td>7.868973</td>\n",
       "      <td>0.25191</td>\n",
       "      <td>127.3370</td>\n",
       "      <td>14.176450</td>\n",
       "      <td>160.093</td>\n",
       "      <td>8.441663</td>\n",
       "      <td>73</td>\n",
       "      <td>29.9963</td>\n",
       "    </tr>\n",
       "    <tr>\n",
       "      <th>3</th>\n",
       "      <td>9.479970</td>\n",
       "      <td>8.414287</td>\n",
       "      <td>0.34444</td>\n",
       "      <td>155.4400</td>\n",
       "      <td>14.410050</td>\n",
       "      <td>173.015</td>\n",
       "      <td>8.570709</td>\n",
       "      <td>32</td>\n",
       "      <td>28.1354</td>\n",
       "    </tr>\n",
       "    <tr>\n",
       "      <th>4</th>\n",
       "      <td>8.928801</td>\n",
       "      <td>7.966712</td>\n",
       "      <td>0.38201</td>\n",
       "      <td>85.1237</td>\n",
       "      <td>13.858492</td>\n",
       "      <td>124.414</td>\n",
       "      <td>8.090816</td>\n",
       "      <td>57</td>\n",
       "      <td>35.0200</td>\n",
       "    </tr>\n",
       "  </tbody>\n",
       "</table>\n",
       "</div>"
      ],
      "text/plain": [
       "   mass_npea  size_npear  malign_ratio  damage_size  exposed_area  \\\n",
       "0   8.843889    7.979346       0.42116      51.8298     13.804278   \n",
       "1   9.657376    8.492974       0.31206     223.5500     14.537453   \n",
       "2   9.247366    7.868973       0.25191     127.3370     14.176450   \n",
       "3   9.479970    8.414287       0.34444     155.4400     14.410050   \n",
       "4   8.928801    7.966712       0.38201      85.1237     13.858492   \n",
       "\n",
       "   std_dev_malign  err_malign  malign_penalty  damage_ratio  \n",
       "0         109.487    7.922899              72       39.3620  \n",
       "1         248.881    8.691740             240       22.0253  \n",
       "2         160.093    8.441663              73       29.9963  \n",
       "3         173.015    8.570709              32       28.1354  \n",
       "4         124.414    8.090816              57       35.0200  "
      ]
     },
     "execution_count": 14,
     "metadata": {},
     "output_type": "execute_result"
    }
   ],
   "source": [
    "train[['mass_npea','size_npear','exposed_area','err_malign']] = np.log1p(train[['mass_npea','size_npear','exposed_area','err_malign']])\n",
    "train.head()"
   ]
  },
  {
   "cell_type": "markdown",
   "metadata": {},
   "source": [
    "# Feature Engineering\n",
    "\n",
    "## Deriving new columns from the existing in order to have more information available for the model to learn so that it can perform with better accuracy"
   ]
  },
  {
   "cell_type": "code",
   "execution_count": 21,
   "metadata": {},
   "outputs": [],
   "source": [
    "train['penalty-err'] = train['malign_penalty'] - train['err_malign']\n",
    "train['d_size-ratio'] = train['damage_size'] - train['damage_ratio']\n",
    "train['d_ratio-m_ratio'] = train['damage_ratio'] - (train['malign_ratio'])\n",
    "train['penalty/std'] = train['malign_penalty']/train['std_dev_malign']\n",
    "train['mass/area'] = (train['mass_npea'])/(train['exposed_area'])\n",
    "train['area/mass'] = train['exposed_area']/train['mass_npea']\n",
    "train['err/std'] = train['penalty-err']/train['std_dev_malign']\n",
    "train['dsr/ps'] = train['damage_size']/train['penalty-err']\n",
    "train['std/area'] = train['std_dev_malign']/train['exposed_area']\n",
    "train['err/area'] = train['err_malign']/train['exposed_area']\n",
    "train['dr/area'] = (train['damage_ratio']*100)/train['exposed_area']\n",
    "train['std/err'] = (train['std_dev_malign']+1)/(train['err_malign']+1)\n",
    "train['penalty/err'] = (train['malign_penalty']+1)/(train['err_malign']+1)"
   ]
  },
  {
   "cell_type": "code",
   "execution_count": 22,
   "metadata": {},
   "outputs": [],
   "source": [
    "x_train = train.values\n",
    "y_train = target.values"
   ]
  },
  {
   "cell_type": "markdown",
   "metadata": {},
   "source": [
    "## Defining Metric"
   ]
  },
  {
   "cell_type": "code",
   "execution_count": 23,
   "metadata": {},
   "outputs": [],
   "source": [
    "def RMSE(y_true,y_pred):\n",
    "    return np.sqrt(mean_squared_error(y_true,y_pred))\n",
    "rmse = make_scorer(RMSE, greater_is_better=False)"
   ]
  },
  {
   "cell_type": "markdown",
   "metadata": {},
   "source": [
    "## Hyperparameter tuning of Extratrees Regressor using Bayesian optimization"
   ]
  },
  {
   "cell_type": "code",
   "execution_count": 24,
   "metadata": {},
   "outputs": [],
   "source": [
    "def etc_cv(n_estimators, min_samples_split, max_features, data, target):\n",
    "    estimator = ExtraTreesRegressor(\n",
    "            n_estimators=n_estimators,\n",
    "            min_samples_split=min_samples_split,\n",
    "            max_features=max_features,\n",
    "            random_state=2,\n",
    "            n_jobs=-1\n",
    "    )\n",
    "    cval = cross_val_score(estimator, data, target, scoring=rmse, cv=5)\n",
    "    \n",
    "    return cval.mean()"
   ]
  },
  {
   "cell_type": "code",
   "execution_count": 25,
   "metadata": {},
   "outputs": [],
   "source": [
    "def optimize_etc(data, target):\n",
    "    def etc_crossval(n_estimators, min_samples_split, max_features):\n",
    "        return etc_cv(\n",
    "                n_estimators=int(n_estimators),\n",
    "                min_samples_split=int(min_samples_split),\n",
    "                max_features=max(min(max_features, 0.999), 1e-3),\n",
    "                data=data,\n",
    "                target=target,\n",
    "                )\n",
    "    optimizer = BayesianOptimization(\n",
    "        f=etc_crossval,\n",
    "        pbounds={\n",
    "            \"n_estimators\":(100,550),\n",
    "            \"min_samples_split\":(2,25),\n",
    "            \"max_features\": (0.1,0.9)\n",
    "        },\n",
    "        random_state=42,\n",
    "        verbose=2\n",
    "    )\n",
    "    optimizer.maximize(n_iter=15, init_points=10)\n",
    "    \n",
    "    print(\"Final result:\", optimizer.max)"
   ]
  },
  {
   "cell_type": "code",
   "execution_count": 26,
   "metadata": {},
   "outputs": [
    {
     "name": "stdout",
     "output_type": "stream",
     "text": [
      "\u001b[93m--- Optimizing Extra Trees ---\u001b[0m\n",
      "|   iter    |  target   | max_fe... | min_sa... | n_esti... |\n",
      "-------------------------------------------------------------\n",
      "| \u001b[0m 1       \u001b[0m | \u001b[0m-4.108   \u001b[0m | \u001b[0m 0.3996  \u001b[0m | \u001b[0m 23.87   \u001b[0m | \u001b[0m 429.4   \u001b[0m |\n",
      "| \u001b[95m 2       \u001b[0m | \u001b[95m-3.825   \u001b[0m | \u001b[95m 0.5789  \u001b[0m | \u001b[95m 5.588   \u001b[0m | \u001b[95m 170.2   \u001b[0m |\n",
      "| \u001b[0m 3       \u001b[0m | \u001b[0m-4.225   \u001b[0m | \u001b[0m 0.1465  \u001b[0m | \u001b[0m 21.92   \u001b[0m | \u001b[0m 370.5   \u001b[0m |\n",
      "| \u001b[95m 4       \u001b[0m | \u001b[95m-3.787   \u001b[0m | \u001b[95m 0.6665  \u001b[0m | \u001b[95m 2.473   \u001b[0m | \u001b[95m 536.5   \u001b[0m |\n",
      "| \u001b[0m 5       \u001b[0m | \u001b[0m-3.835   \u001b[0m | \u001b[0m 0.766   \u001b[0m | \u001b[0m 6.884   \u001b[0m | \u001b[0m 181.8   \u001b[0m |\n",
      "| \u001b[0m 6       \u001b[0m | \u001b[0m-3.921   \u001b[0m | \u001b[0m 0.2467  \u001b[0m | \u001b[0m 8.998   \u001b[0m | \u001b[0m 336.1   \u001b[0m |\n",
      "| \u001b[0m 7       \u001b[0m | \u001b[0m-3.873   \u001b[0m | \u001b[0m 0.4456  \u001b[0m | \u001b[0m 8.698   \u001b[0m | \u001b[0m 375.3   \u001b[0m |\n",
      "| \u001b[0m 8       \u001b[0m | \u001b[0m-3.948   \u001b[0m | \u001b[0m 0.2116  \u001b[0m | \u001b[0m 8.719   \u001b[0m | \u001b[0m 264.9   \u001b[0m |\n",
      "| \u001b[0m 9       \u001b[0m | \u001b[0m-4.063   \u001b[0m | \u001b[0m 0.4649  \u001b[0m | \u001b[0m 20.06   \u001b[0m | \u001b[0m 189.9   \u001b[0m |\n",
      "| \u001b[0m 10      \u001b[0m | \u001b[0m-3.986   \u001b[0m | \u001b[0m 0.5114  \u001b[0m | \u001b[0m 15.63   \u001b[0m | \u001b[0m 120.9   \u001b[0m |\n",
      "| \u001b[0m 11      \u001b[0m | \u001b[0m-3.84    \u001b[0m | \u001b[0m 0.6767  \u001b[0m | \u001b[0m 7.548   \u001b[0m | \u001b[0m 175.7   \u001b[0m |\n",
      "| \u001b[0m 12      \u001b[0m | \u001b[0m-3.881   \u001b[0m | \u001b[0m 0.9     \u001b[0m | \u001b[0m 10.75   \u001b[0m | \u001b[0m 541.0   \u001b[0m |\n",
      "| \u001b[0m 13      \u001b[0m | \u001b[0m-3.803   \u001b[0m | \u001b[0m 0.3417  \u001b[0m | \u001b[0m 3.967   \u001b[0m | \u001b[0m 526.6   \u001b[0m |\n",
      "| \u001b[95m 14      \u001b[0m | \u001b[95m-3.779   \u001b[0m | \u001b[95m 0.7611  \u001b[0m | \u001b[95m 2.169   \u001b[0m | \u001b[95m 389.2   \u001b[0m |\n",
      "| \u001b[0m 15      \u001b[0m | \u001b[0m-3.784   \u001b[0m | \u001b[0m 0.6213  \u001b[0m | \u001b[0m 2.003   \u001b[0m | \u001b[0m 402.8   \u001b[0m |\n",
      "| \u001b[0m 16      \u001b[0m | \u001b[0m-3.945   \u001b[0m | \u001b[0m 0.9     \u001b[0m | \u001b[0m 14.46   \u001b[0m | \u001b[0m 397.7   \u001b[0m |\n",
      "| \u001b[0m 17      \u001b[0m | \u001b[0m-3.787   \u001b[0m | \u001b[0m 0.9     \u001b[0m | \u001b[0m 2.0     \u001b[0m | \u001b[0m 506.9   \u001b[0m |\n",
      "| \u001b[0m 18      \u001b[0m | \u001b[0m-3.993   \u001b[0m | \u001b[0m 0.8874  \u001b[0m | \u001b[0m 18.33   \u001b[0m | \u001b[0m 508.6   \u001b[0m |\n",
      "| \u001b[0m 19      \u001b[0m | \u001b[0m-3.79    \u001b[0m | \u001b[0m 0.3631  \u001b[0m | \u001b[0m 2.361   \u001b[0m | \u001b[0m 493.0   \u001b[0m |\n",
      "| \u001b[0m 20      \u001b[0m | \u001b[0m-3.895   \u001b[0m | \u001b[0m 0.1227  \u001b[0m | \u001b[0m 2.0     \u001b[0m | \u001b[0m 475.7   \u001b[0m |\n",
      "| \u001b[0m 21      \u001b[0m | \u001b[0m-3.797   \u001b[0m | \u001b[0m 0.9     \u001b[0m | \u001b[0m 2.0     \u001b[0m | \u001b[0m 151.7   \u001b[0m |\n",
      "| \u001b[0m 22      \u001b[0m | \u001b[0m-4.286   \u001b[0m | \u001b[0m 0.1     \u001b[0m | \u001b[0m 18.08   \u001b[0m | \u001b[0m 154.1   \u001b[0m |\n",
      "| \u001b[0m 23      \u001b[0m | \u001b[0m-3.793   \u001b[0m | \u001b[0m 0.3326  \u001b[0m | \u001b[0m 2.301   \u001b[0m | \u001b[0m 414.4   \u001b[0m |\n",
      "| \u001b[0m 24      \u001b[0m | \u001b[0m-4.244   \u001b[0m | \u001b[0m 0.1     \u001b[0m | \u001b[0m 16.14   \u001b[0m | \u001b[0m 486.3   \u001b[0m |\n",
      "| \u001b[0m 25      \u001b[0m | \u001b[0m-3.795   \u001b[0m | \u001b[0m 0.4644  \u001b[0m | \u001b[0m 2.139   \u001b[0m | \u001b[0m 138.1   \u001b[0m |\n",
      "=============================================================\n",
      "Final result: {'target': -3.7786805756406823, 'params': {'max_features': 0.761053890090604, 'min_samples_split': 2.169127366533436, 'n_estimators': 389.1643211846736}}\n"
     ]
    }
   ],
   "source": [
    "print(Colours.yellow(\"--- Optimizing Extra Trees ---\"))\n",
    "optimize_etc(x_train, y_train)"
   ]
  },
  {
   "cell_type": "code",
   "execution_count": 27,
   "metadata": {},
   "outputs": [],
   "source": [
    "etc = ExtraTreesRegressor(n_estimators=int(389.1643211846736),\n",
    "                         min_samples_split=int(2.169127366533436),\n",
    "                         max_features=0.761053890090604,\n",
    "                         n_jobs = -1,\n",
    "                         random_state = 42)"
   ]
  },
  {
   "cell_type": "markdown",
   "metadata": {},
   "source": [
    "## Hyperparameter tuning of RandomForest Regressor using Bayesian optimization"
   ]
  },
  {
   "cell_type": "code",
   "execution_count": 28,
   "metadata": {},
   "outputs": [],
   "source": [
    "def rfc_cv(n_estimators, min_samples_split, max_features, data, target):\n",
    "    estimator = RandomForestRegressor(\n",
    "            n_estimators=n_estimators,\n",
    "            min_samples_split=min_samples_split,\n",
    "            max_features=max_features,\n",
    "            random_state=42,\n",
    "            n_jobs=-1\n",
    "    )\n",
    "    cval = cross_val_score(estimator, data, target, scoring=rmse, cv=5)\n",
    "    \n",
    "    return cval.mean()"
   ]
  },
  {
   "cell_type": "code",
   "execution_count": 29,
   "metadata": {},
   "outputs": [],
   "source": [
    "def optimize_rfc(data, target):\n",
    "    def rfc_crossval(n_estimators, min_samples_split, max_features):\n",
    "        return rfc_cv(\n",
    "            n_estimators=int(n_estimators),\n",
    "            min_samples_split=int(min_samples_split),\n",
    "            max_features=max(min(max_features, 0.9), 1e-3),\n",
    "            data=data,\n",
    "            target=target,\n",
    "            )\n",
    "    optimizer = BayesianOptimization(\n",
    "        f=rfc_crossval,\n",
    "        pbounds={\n",
    "            \"n_estimators\":(100,600),\n",
    "            \"min_samples_split\":(2,25),\n",
    "            \"max_features\":(0.1,0.9),\n",
    "        },\n",
    "        random_state=1234,\n",
    "        verbose=2\n",
    "    )\n",
    "    optimizer.maximize(n_iter=15, init_points=10)\n",
    "    \n",
    "    print(\"Final result:\", optimizer.max)"
   ]
  },
  {
   "cell_type": "code",
   "execution_count": 30,
   "metadata": {},
   "outputs": [
    {
     "name": "stdout",
     "output_type": "stream",
     "text": [
      "\u001b[92m--- Optimizing Random Forest ---\u001b[0m\n",
      "|   iter    |  target   | max_fe... | min_sa... | n_esti... |\n",
      "-------------------------------------------------------------\n",
      "| \u001b[0m 1       \u001b[0m | \u001b[0m-4.054   \u001b[0m | \u001b[0m 0.2532  \u001b[0m | \u001b[0m 16.31   \u001b[0m | \u001b[0m 318.9   \u001b[0m |\n",
      "| \u001b[0m 2       \u001b[0m | \u001b[0m-4.096   \u001b[0m | \u001b[0m 0.7283  \u001b[0m | \u001b[0m 19.94   \u001b[0m | \u001b[0m 236.3   \u001b[0m |\n",
      "| \u001b[0m 3       \u001b[0m | \u001b[0m-4.078   \u001b[0m | \u001b[0m 0.3212  \u001b[0m | \u001b[0m 20.44   \u001b[0m | \u001b[0m 579.1   \u001b[0m |\n",
      "| \u001b[95m 4       \u001b[0m | \u001b[95m-4.018   \u001b[0m | \u001b[95m 0.8007  \u001b[0m | \u001b[95m 10.23   \u001b[0m | \u001b[95m 350.5   \u001b[0m |\n",
      "| \u001b[0m 5       \u001b[0m | \u001b[0m-4.086   \u001b[0m | \u001b[0m 0.6468  \u001b[0m | \u001b[0m 18.39   \u001b[0m | \u001b[0m 285.1   \u001b[0m |\n",
      "| \u001b[0m 6       \u001b[0m | \u001b[0m-4.043   \u001b[0m | \u001b[0m 0.549   \u001b[0m | \u001b[0m 13.57   \u001b[0m | \u001b[0m 106.9   \u001b[0m |\n",
      "| \u001b[0m 7       \u001b[0m | \u001b[0m-4.117   \u001b[0m | \u001b[0m 0.7183  \u001b[0m | \u001b[0m 22.3    \u001b[0m | \u001b[0m 282.4   \u001b[0m |\n",
      "| \u001b[95m 8       \u001b[0m | \u001b[95m-3.945   \u001b[0m | \u001b[95m 0.5923  \u001b[0m | \u001b[95m 3.734   \u001b[0m | \u001b[95m 284.4   \u001b[0m |\n",
      "| \u001b[0m 9       \u001b[0m | \u001b[0m-4.078   \u001b[0m | \u001b[0m 0.8465  \u001b[0m | \u001b[0m 16.98   \u001b[0m | \u001b[0m 298.6   \u001b[0m |\n",
      "| \u001b[0m 10      \u001b[0m | \u001b[0m-4.005   \u001b[0m | \u001b[0m 0.731   \u001b[0m | \u001b[0m 9.287   \u001b[0m | \u001b[0m 384.0   \u001b[0m |\n",
      "| \u001b[95m 11      \u001b[0m | \u001b[95m-3.925   \u001b[0m | \u001b[95m 0.3175  \u001b[0m | \u001b[95m 3.385   \u001b[0m | \u001b[95m 278.8   \u001b[0m |\n",
      "| \u001b[0m 12      \u001b[0m | \u001b[0m-3.97    \u001b[0m | \u001b[0m 0.9     \u001b[0m | \u001b[0m 2.0     \u001b[0m | \u001b[0m 266.7   \u001b[0m |\n",
      "| \u001b[0m 13      \u001b[0m | \u001b[0m-4.127   \u001b[0m | \u001b[0m 0.6755  \u001b[0m | \u001b[0m 24.99   \u001b[0m | \u001b[0m 407.5   \u001b[0m |\n",
      "| \u001b[0m 14      \u001b[0m | \u001b[0m-4.211   \u001b[0m | \u001b[0m 0.1     \u001b[0m | \u001b[0m 25.0    \u001b[0m | \u001b[0m 368.0   \u001b[0m |\n",
      "| \u001b[0m 15      \u001b[0m | \u001b[0m-3.966   \u001b[0m | \u001b[0m 0.7866  \u001b[0m | \u001b[0m 2.612   \u001b[0m | \u001b[0m 334.9   \u001b[0m |\n",
      "| \u001b[0m 16      \u001b[0m | \u001b[0m-3.95    \u001b[0m | \u001b[0m 0.4432  \u001b[0m | \u001b[0m 3.185   \u001b[0m | \u001b[0m 147.5   \u001b[0m |\n",
      "| \u001b[0m 17      \u001b[0m | \u001b[0m-4.031   \u001b[0m | \u001b[0m 0.4385  \u001b[0m | \u001b[0m 14.21   \u001b[0m | \u001b[0m 160.3   \u001b[0m |\n",
      "| \u001b[0m 18      \u001b[0m | \u001b[0m-3.961   \u001b[0m | \u001b[0m 0.1     \u001b[0m | \u001b[0m 2.0     \u001b[0m | \u001b[0m 132.5   \u001b[0m |\n",
      "| \u001b[0m 19      \u001b[0m | \u001b[0m-4.117   \u001b[0m | \u001b[0m 0.9     \u001b[0m | \u001b[0m 19.35   \u001b[0m | \u001b[0m 137.0   \u001b[0m |\n",
      "| \u001b[0m 20      \u001b[0m | \u001b[0m-3.974   \u001b[0m | \u001b[0m 0.9     \u001b[0m | \u001b[0m 2.0     \u001b[0m | \u001b[0m 183.8   \u001b[0m |\n",
      "| \u001b[0m 21      \u001b[0m | \u001b[0m-4.065   \u001b[0m | \u001b[0m 0.3799  \u001b[0m | \u001b[0m 17.26   \u001b[0m | \u001b[0m 193.0   \u001b[0m |\n",
      "| \u001b[0m 22      \u001b[0m | \u001b[0m-3.961   \u001b[0m | \u001b[0m 0.7083  \u001b[0m | \u001b[0m 2.049   \u001b[0m | \u001b[0m 170.2   \u001b[0m |\n",
      "| \u001b[0m 23      \u001b[0m | \u001b[0m-3.96    \u001b[0m | \u001b[0m 0.7834  \u001b[0m | \u001b[0m 2.128   \u001b[0m | \u001b[0m 495.7   \u001b[0m |\n",
      "| \u001b[0m 24      \u001b[0m | \u001b[0m-4.088   \u001b[0m | \u001b[0m 0.5929  \u001b[0m | \u001b[0m 20.42   \u001b[0m | \u001b[0m 494.2   \u001b[0m |\n",
      "| \u001b[0m 25      \u001b[0m | \u001b[0m-3.968   \u001b[0m | \u001b[0m 0.9     \u001b[0m | \u001b[0m 2.0     \u001b[0m | \u001b[0m 511.6   \u001b[0m |\n",
      "=============================================================\n",
      "Final result: {'target': -3.9253782373087516, 'params': {'max_features': 0.31748183480254244, 'min_samples_split': 3.3847745086807413, 'n_estimators': 278.823003027616}}\n"
     ]
    }
   ],
   "source": [
    "print(Colours.green(\"--- Optimizing Random Forest ---\"))\n",
    "optimize_rfc(x_train, y_train)"
   ]
  },
  {
   "cell_type": "code",
   "execution_count": 31,
   "metadata": {},
   "outputs": [],
   "source": [
    "rfc = RandomForestRegressor(n_estimators = int(278.823003027616),\n",
    "                           min_samples_split=int(3.3847745086807413),\n",
    "                           max_features = 0.31748183480254244,\n",
    "                           n_jobs = -1, \n",
    "                           random_state = 42)"
   ]
  },
  {
   "cell_type": "markdown",
   "metadata": {},
   "source": [
    "## Hyperparameter tuning of LightGradientBoosting Regressor using Bayesian optimization"
   ]
  },
  {
   "cell_type": "code",
   "execution_count": 32,
   "metadata": {},
   "outputs": [],
   "source": [
    "def lgb_cv(n_estimators, num_leaves, min_child_samples, subsample, data, target):\n",
    "    estimator = LGBMRegressor(\n",
    "        n_estimators=n_estimators,\n",
    "        num_leaves=num_leaves,\n",
    "        min_child_samples=min_child_samples,\n",
    "        subsample=subsample,\n",
    "        random_state=2\n",
    "    )\n",
    "    cval = cross_val_score(estimator, data, target, scoring=rmse, cv=5)\n",
    "    \n",
    "    return cval.mean()"
   ]
  },
  {
   "cell_type": "code",
   "execution_count": 33,
   "metadata": {},
   "outputs": [],
   "source": [
    "def optimize_lgb(data, targets):\n",
    "    def lgb_crossval(n_estimators, num_leaves, min_child_samples, subsample):\n",
    "        return lgb_cv(\n",
    "            n_estimators=int(n_estimators),\n",
    "            num_leaves= int(num_leaves),\n",
    "            min_child_samples=int(min_child_samples),\n",
    "            subsample=subsample,\n",
    "            data=data,\n",
    "            target=target,\n",
    "        )\n",
    "    \n",
    "    optimizer = BayesianOptimization(\n",
    "        f=lgb_crossval,\n",
    "        pbounds={\n",
    "            \"n_estimators\":(100,550),\n",
    "            \"num_leaves\":(30,90),\n",
    "            \"min_child_samples\":(5,30),\n",
    "            \"subsample\":(0.6,1.0)\n",
    "        },\n",
    "        random_state=1234,\n",
    "        verbose=2\n",
    "    )\n",
    "    optimizer.maximize(n_iter=15, init_points=10)\n",
    "    \n",
    "    print(\"Final result:\", optimizer.max)"
   ]
  },
  {
   "cell_type": "code",
   "execution_count": 34,
   "metadata": {},
   "outputs": [
    {
     "name": "stdout",
     "output_type": "stream",
     "text": [
      "\u001b[94m--- Optimizing Light GBM ---\u001b[0m\n",
      "|   iter    |  target   | min_ch... | n_esti... | num_le... | subsample |\n",
      "-------------------------------------------------------------------------\n",
      "| \u001b[0m 1       \u001b[0m | \u001b[0m-3.949   \u001b[0m | \u001b[0m 9.788   \u001b[0m | \u001b[0m 379.9   \u001b[0m | \u001b[0m 56.26   \u001b[0m | \u001b[0m 0.9141  \u001b[0m |\n",
      "| \u001b[0m 2       \u001b[0m | \u001b[0m-3.989   \u001b[0m | \u001b[0m 24.5    \u001b[0m | \u001b[0m 222.7   \u001b[0m | \u001b[0m 46.59   \u001b[0m | \u001b[0m 0.9207  \u001b[0m |\n",
      "| \u001b[95m 3       \u001b[0m | \u001b[95m-3.948   \u001b[0m | \u001b[95m 28.95   \u001b[0m | \u001b[95m 494.2   \u001b[0m | \u001b[95m 51.47   \u001b[0m | \u001b[95m 0.8004  \u001b[0m |\n",
      "| \u001b[0m 4       \u001b[0m | \u001b[0m-3.959   \u001b[0m | \u001b[0m 22.09   \u001b[0m | \u001b[0m 420.7   \u001b[0m | \u001b[0m 52.22   \u001b[0m | \u001b[0m 0.8245  \u001b[0m |\n",
      "| \u001b[0m 5       \u001b[0m | \u001b[0m-3.982   \u001b[0m | \u001b[0m 17.58   \u001b[0m | \u001b[0m 106.2   \u001b[0m | \u001b[0m 76.37   \u001b[0m | \u001b[0m 0.9531  \u001b[0m |\n",
      "| \u001b[0m 6       \u001b[0m | \u001b[0m-3.986   \u001b[0m | \u001b[0m 14.12   \u001b[0m | \u001b[0m 376.9   \u001b[0m | \u001b[0m 34.52   \u001b[0m | \u001b[0m 0.7475  \u001b[0m |\n",
      "| \u001b[0m 7       \u001b[0m | \u001b[0m-3.962   \u001b[0m | \u001b[0m 28.33   \u001b[0m | \u001b[0m 393.1   \u001b[0m | \u001b[0m 53.83   \u001b[0m | \u001b[0m 0.9155  \u001b[0m |\n",
      "| \u001b[95m 8       \u001b[0m | \u001b[95m-3.929   \u001b[0m | \u001b[95m 12.92   \u001b[0m | \u001b[95m 355.6   \u001b[0m | \u001b[95m 82.15   \u001b[0m | \u001b[95m 0.7745  \u001b[0m |\n",
      "| \u001b[0m 9       \u001b[0m | \u001b[0m-3.961   \u001b[0m | \u001b[0m 25.05   \u001b[0m | \u001b[0m 164.7   \u001b[0m | \u001b[0m 72.26   \u001b[0m | \u001b[0m 0.8818  \u001b[0m |\n",
      "| \u001b[0m 10      \u001b[0m | \u001b[0m-3.931   \u001b[0m | \u001b[0m 10.47   \u001b[0m | \u001b[0m 516.2   \u001b[0m | \u001b[0m 56.53   \u001b[0m | \u001b[0m 0.9637  \u001b[0m |\n",
      "| \u001b[95m 11      \u001b[0m | \u001b[95m-3.922   \u001b[0m | \u001b[95m 5.0     \u001b[0m | \u001b[95m 378.0   \u001b[0m | \u001b[95m 88.91   \u001b[0m | \u001b[95m 0.9786  \u001b[0m |\n",
      "| \u001b[0m 12      \u001b[0m | \u001b[0m-3.928   \u001b[0m | \u001b[0m 6.382   \u001b[0m | \u001b[0m 379.4   \u001b[0m | \u001b[0m 88.43   \u001b[0m | \u001b[0m 0.976   \u001b[0m |\n",
      "| \u001b[0m 13      \u001b[0m | \u001b[0m-3.943   \u001b[0m | \u001b[0m 5.0     \u001b[0m | \u001b[0m 366.1   \u001b[0m | \u001b[0m 89.84   \u001b[0m | \u001b[0m 0.9313  \u001b[0m |\n",
      "| \u001b[0m 14      \u001b[0m | \u001b[0m-3.935   \u001b[0m | \u001b[0m 5.0     \u001b[0m | \u001b[0m 373.7   \u001b[0m | \u001b[0m 80.67   \u001b[0m | \u001b[0m 0.8658  \u001b[0m |\n",
      "| \u001b[0m 15      \u001b[0m | \u001b[0m-3.93    \u001b[0m | \u001b[0m 10.94   \u001b[0m | \u001b[0m 357.3   \u001b[0m | \u001b[0m 70.88   \u001b[0m | \u001b[0m 0.9204  \u001b[0m |\n",
      "| \u001b[0m 16      \u001b[0m | \u001b[0m-3.924   \u001b[0m | \u001b[0m 14.64   \u001b[0m | \u001b[0m 343.6   \u001b[0m | \u001b[0m 75.14   \u001b[0m | \u001b[0m 0.8387  \u001b[0m |\n",
      "| \u001b[0m 17      \u001b[0m | \u001b[0m-3.942   \u001b[0m | \u001b[0m 25.28   \u001b[0m | \u001b[0m 351.8   \u001b[0m | \u001b[0m 74.66   \u001b[0m | \u001b[0m 0.8553  \u001b[0m |\n",
      "| \u001b[0m 18      \u001b[0m | \u001b[0m-3.943   \u001b[0m | \u001b[0m 7.223   \u001b[0m | \u001b[0m 340.2   \u001b[0m | \u001b[0m 85.33   \u001b[0m | \u001b[0m 0.9442  \u001b[0m |\n",
      "| \u001b[0m 19      \u001b[0m | \u001b[0m-3.95    \u001b[0m | \u001b[0m 8.555   \u001b[0m | \u001b[0m 344.0   \u001b[0m | \u001b[0m 64.5    \u001b[0m | \u001b[0m 0.7216  \u001b[0m |\n",
      "| \u001b[0m 20      \u001b[0m | \u001b[0m-3.975   \u001b[0m | \u001b[0m 22.67   \u001b[0m | \u001b[0m 334.0   \u001b[0m | \u001b[0m 78.58   \u001b[0m | \u001b[0m 0.8695  \u001b[0m |\n",
      "| \u001b[0m 21      \u001b[0m | \u001b[0m-3.933   \u001b[0m | \u001b[0m 7.048   \u001b[0m | \u001b[0m 349.0   \u001b[0m | \u001b[0m 78.94   \u001b[0m | \u001b[0m 0.9746  \u001b[0m |\n",
      "| \u001b[0m 22      \u001b[0m | \u001b[0m-3.941   \u001b[0m | \u001b[0m 18.83   \u001b[0m | \u001b[0m 365.7   \u001b[0m | \u001b[0m 76.3    \u001b[0m | \u001b[0m 0.6     \u001b[0m |\n",
      "| \u001b[0m 23      \u001b[0m | \u001b[0m-3.946   \u001b[0m | \u001b[0m 7.573   \u001b[0m | \u001b[0m 524.7   \u001b[0m | \u001b[0m 47.49   \u001b[0m | \u001b[0m 0.7819  \u001b[0m |\n",
      "| \u001b[0m 24      \u001b[0m | \u001b[0m-3.946   \u001b[0m | \u001b[0m 16.17   \u001b[0m | \u001b[0m 513.2   \u001b[0m | \u001b[0m 67.41   \u001b[0m | \u001b[0m 0.688   \u001b[0m |\n",
      "| \u001b[0m 25      \u001b[0m | \u001b[0m-3.957   \u001b[0m | \u001b[0m 6.208   \u001b[0m | \u001b[0m 505.7   \u001b[0m | \u001b[0m 52.36   \u001b[0m | \u001b[0m 1.0     \u001b[0m |\n",
      "=========================================================================\n",
      "Final result: {'target': -3.9216841543728607, 'params': {'min_child_samples': 5.0, 'n_estimators': 378.03973190498584, 'num_leaves': 88.90759301695284, 'subsample': 0.9786071458754081}}\n"
     ]
    }
   ],
   "source": [
    "print(Colours.blue(\"--- Optimizing Light GBM ---\"))\n",
    "optimize_lgb(x_train,y_train)"
   ]
  },
  {
   "cell_type": "code",
   "execution_count": 35,
   "metadata": {},
   "outputs": [],
   "source": [
    "lgb = LGBMRegressor(\n",
    "        n_estimators=int(378.03973190498584),\n",
    "        num_leaves = int(88.90759301695284),\n",
    "        min_child_samples=int(5.0),\n",
    "        subsample = 0.9786071458754081,\n",
    "        random_state = 42\n",
    "    )"
   ]
  },
  {
   "cell_type": "markdown",
   "metadata": {},
   "source": [
    "## Hyperparameter tuning of ExtremeGradientBoosting Regressor using Bayesian optimization"
   ]
  },
  {
   "cell_type": "code",
   "execution_count": 36,
   "metadata": {},
   "outputs": [],
   "source": [
    "def xgb_cv(n_estimators, max_depth, gamma, min_child_weight, subsample, data, target):\n",
    "    estimator = XGBRegressor(\n",
    "            n_estimators=n_estimators,\n",
    "            gamma=gamma,\n",
    "            min_child_weight=min_child_weight,\n",
    "            subsample=subsample,\n",
    "            random_state=2\n",
    "    )\n",
    "    cval = cross_val_score(estimator, data, target, scoring=rmse, cv=5)\n",
    "    \n",
    "    return cval.mean()"
   ]
  },
  {
   "cell_type": "code",
   "execution_count": 37,
   "metadata": {},
   "outputs": [],
   "source": [
    "def optimize_xgb(data, target):\n",
    "    def xgb_crossval(n_estimators, max_depth, gamma, min_child_weight, subsample):\n",
    "        return xgb_cv(\n",
    "            n_estimators=int(n_estimators),\n",
    "            max_depth=int(max_depth),\n",
    "            gamma=gamma,\n",
    "            min_child_weight=min_child_weight,\n",
    "            subsample=subsample,\n",
    "            data=data,\n",
    "            target=target,\n",
    "        )\n",
    "    optimizer = BayesianOptimization(\n",
    "            f=xgb_crossval,\n",
    "            pbounds={\n",
    "                \"n_estimators\":(150,550),\n",
    "                \"max_depth\": (1,20),\n",
    "                \"gamma\":(0,10),\n",
    "                \"min_child_weight\":(0,10),\n",
    "                \"subsample\":(0.8,1.0)\n",
    "                },\n",
    "            random_state=1234,\n",
    "            verbose=2\n",
    "      )\n",
    "    optimizer.maximize(n_iter=15 , init_points=10)\n",
    "    \n",
    "    \n",
    "    print('Final Result:', optimizer.max)"
   ]
  },
  {
   "cell_type": "code",
   "execution_count": 38,
   "metadata": {},
   "outputs": [
    {
     "name": "stdout",
     "output_type": "stream",
     "text": [
      "\u001b[91m--- Optimizing XGBoost ---\u001b[0m\n",
      "|   iter    |  target   |   gamma   | max_depth | min_ch... | n_esti... | subsample |\n",
      "-------------------------------------------------------------------------------------\n",
      "| \u001b[0m 1       \u001b[0m | \u001b[0m-4.182   \u001b[0m | \u001b[0m 1.915   \u001b[0m | \u001b[0m 12.82   \u001b[0m | \u001b[0m 4.377   \u001b[0m | \u001b[0m 464.1   \u001b[0m | \u001b[0m 0.956   \u001b[0m |\n",
      "| \u001b[0m 2       \u001b[0m | \u001b[0m-4.203   \u001b[0m | \u001b[0m 2.726   \u001b[0m | \u001b[0m 6.253   \u001b[0m | \u001b[0m 8.019   \u001b[0m | \u001b[0m 533.3   \u001b[0m | \u001b[0m 0.9752  \u001b[0m |\n",
      "| \u001b[0m 3       \u001b[0m | \u001b[0m-4.232   \u001b[0m | \u001b[0m 3.578   \u001b[0m | \u001b[0m 10.52   \u001b[0m | \u001b[0m 6.835   \u001b[0m | \u001b[0m 435.1   \u001b[0m | \u001b[0m 0.8741  \u001b[0m |\n",
      "| \u001b[0m 4       \u001b[0m | \u001b[0m-4.221   \u001b[0m | \u001b[0m 5.612   \u001b[0m | \u001b[0m 10.56   \u001b[0m | \u001b[0m 0.1377  \u001b[0m | \u001b[0m 459.1   \u001b[0m | \u001b[0m 0.9765  \u001b[0m |\n",
      "| \u001b[0m 5       \u001b[0m | \u001b[0m-4.187   \u001b[0m | \u001b[0m 3.649   \u001b[0m | \u001b[0m 12.69   \u001b[0m | \u001b[0m 0.7538  \u001b[0m | \u001b[0m 297.5   \u001b[0m | \u001b[0m 0.9866  \u001b[0m |\n",
      "| \u001b[0m 6       \u001b[0m | \u001b[0m-4.182   \u001b[0m | \u001b[0m 6.514   \u001b[0m | \u001b[0m 8.547   \u001b[0m | \u001b[0m 7.887   \u001b[0m | \u001b[0m 276.7   \u001b[0m | \u001b[0m 0.9136  \u001b[0m |\n",
      "| \u001b[0m 7       \u001b[0m | \u001b[0m-4.211   \u001b[0m | \u001b[0m 8.691   \u001b[0m | \u001b[0m 9.287   \u001b[0m | \u001b[0m 8.021   \u001b[0m | \u001b[0m 207.5   \u001b[0m | \u001b[0m 0.9409  \u001b[0m |\n",
      "| \u001b[0m 8       \u001b[0m | \u001b[0m-4.197   \u001b[0m | \u001b[0m 7.046   \u001b[0m | \u001b[0m 5.157   \u001b[0m | \u001b[0m 9.249   \u001b[0m | \u001b[0m 326.9   \u001b[0m | \u001b[0m 0.9819  \u001b[0m |\n",
      "| \u001b[95m 9       \u001b[0m | \u001b[95m-4.179   \u001b[0m | \u001b[95m 0.5981  \u001b[0m | \u001b[95m 4.501   \u001b[0m | \u001b[95m 0.4736  \u001b[0m | \u001b[95m 420.0   \u001b[0m | \u001b[95m 0.9189  \u001b[0m |\n",
      "| \u001b[0m 10      \u001b[0m | \u001b[0m-4.192   \u001b[0m | \u001b[0m 5.333   \u001b[0m | \u001b[0m 1.823   \u001b[0m | \u001b[0m 5.614   \u001b[0m | \u001b[0m 281.9   \u001b[0m | \u001b[0m 0.9006  \u001b[0m |\n",
      "| \u001b[0m 11      \u001b[0m | \u001b[0m-4.207   \u001b[0m | \u001b[0m 5.153   \u001b[0m | \u001b[0m 4.448   \u001b[0m | \u001b[0m 3.77    \u001b[0m | \u001b[0m 180.4   \u001b[0m | \u001b[0m 0.8525  \u001b[0m |\n",
      "| \u001b[0m 12      \u001b[0m | \u001b[0m-4.204   \u001b[0m | \u001b[0m 3.824   \u001b[0m | \u001b[0m 16.61   \u001b[0m | \u001b[0m 4.05    \u001b[0m | \u001b[0m 449.5   \u001b[0m | \u001b[0m 0.9551  \u001b[0m |\n",
      "| \u001b[0m 13      \u001b[0m | \u001b[0m-4.217   \u001b[0m | \u001b[0m 1.111   \u001b[0m | \u001b[0m 5.153   \u001b[0m | \u001b[0m 6.716   \u001b[0m | \u001b[0m 493.7   \u001b[0m | \u001b[0m 0.9595  \u001b[0m |\n",
      "| \u001b[0m 14      \u001b[0m | \u001b[0m-4.21    \u001b[0m | \u001b[0m 8.317   \u001b[0m | \u001b[0m 16.32   \u001b[0m | \u001b[0m 0.9797  \u001b[0m | \u001b[0m 302.3   \u001b[0m | \u001b[0m 0.9759  \u001b[0m |\n",
      "| \u001b[0m 15      \u001b[0m | \u001b[0m-4.222   \u001b[0m | \u001b[0m 8.472   \u001b[0m | \u001b[0m 6.517   \u001b[0m | \u001b[0m 6.877   \u001b[0m | \u001b[0m 169.6   \u001b[0m | \u001b[0m 0.8415  \u001b[0m |\n",
      "| \u001b[95m 16      \u001b[0m | \u001b[95m-4.166   \u001b[0m | \u001b[95m 8.48    \u001b[0m | \u001b[95m 1.792   \u001b[0m | \u001b[95m 0.8149  \u001b[0m | \u001b[95m 351.2   \u001b[0m | \u001b[95m 0.9536  \u001b[0m |\n",
      "| \u001b[0m 17      \u001b[0m | \u001b[0m-4.252   \u001b[0m | \u001b[0m 5.608   \u001b[0m | \u001b[0m 7.428   \u001b[0m | \u001b[0m 5.166   \u001b[0m | \u001b[0m 525.3   \u001b[0m | \u001b[0m 0.8213  \u001b[0m |\n",
      "| \u001b[0m 18      \u001b[0m | \u001b[0m-4.201   \u001b[0m | \u001b[0m 3.653   \u001b[0m | \u001b[0m 13.11   \u001b[0m | \u001b[0m 5.402   \u001b[0m | \u001b[0m 548.8   \u001b[0m | \u001b[0m 0.8603  \u001b[0m |\n",
      "| \u001b[0m 19      \u001b[0m | \u001b[0m-4.176   \u001b[0m | \u001b[0m 7.564   \u001b[0m | \u001b[0m 15.97   \u001b[0m | \u001b[0m 3.059   \u001b[0m | \u001b[0m 265.2   \u001b[0m | \u001b[0m 0.9221  \u001b[0m |\n",
      "| \u001b[0m 20      \u001b[0m | \u001b[0m-4.265   \u001b[0m | \u001b[0m 6.385   \u001b[0m | \u001b[0m 15.03   \u001b[0m | \u001b[0m 4.344   \u001b[0m | \u001b[0m 198.9   \u001b[0m | \u001b[0m 0.8045  \u001b[0m |\n",
      "| \u001b[0m 21      \u001b[0m | \u001b[0m-4.205   \u001b[0m | \u001b[0m 4.361   \u001b[0m | \u001b[0m 17.83   \u001b[0m | \u001b[0m 6.2     \u001b[0m | \u001b[0m 454.8   \u001b[0m | \u001b[0m 0.9801  \u001b[0m |\n",
      "| \u001b[0m 22      \u001b[0m | \u001b[0m-4.203   \u001b[0m | \u001b[0m 8.041   \u001b[0m | \u001b[0m 7.955   \u001b[0m | \u001b[0m 6.426   \u001b[0m | \u001b[0m 329.2   \u001b[0m | \u001b[0m 0.8517  \u001b[0m |\n",
      "| \u001b[0m 23      \u001b[0m | \u001b[0m-4.178   \u001b[0m | \u001b[0m 9.069   \u001b[0m | \u001b[0m 1.002   \u001b[0m | \u001b[0m 0.00178 \u001b[0m | \u001b[0m 356.4   \u001b[0m | \u001b[0m 1.0     \u001b[0m |\n",
      "| \u001b[0m 24      \u001b[0m | \u001b[0m-4.182   \u001b[0m | \u001b[0m 5.526   \u001b[0m | \u001b[0m 2.225   \u001b[0m | \u001b[0m 6.616   \u001b[0m | \u001b[0m 351.9   \u001b[0m | \u001b[0m 0.9656  \u001b[0m |\n",
      "| \u001b[0m 25      \u001b[0m | \u001b[0m-4.246   \u001b[0m | \u001b[0m 10.0    \u001b[0m | \u001b[0m 8.638   \u001b[0m | \u001b[0m 0.0     \u001b[0m | \u001b[0m 351.3   \u001b[0m | \u001b[0m 0.8     \u001b[0m |\n",
      "=====================================================================================\n",
      "Final Result: {'target': -4.166001334430921, 'params': {'gamma': 8.47951455118692, 'max_depth': 1.7917534355988143, 'min_child_weight': 0.8148610722659055, 'n_estimators': 351.213709366579, 'subsample': 0.9535874700807384}}\n"
     ]
    }
   ],
   "source": [
    "print(Colours.red(\"--- Optimizing XGBoost ---\"))\n",
    "optimize_xgb(x_train, y_train)"
   ]
  },
  {
   "cell_type": "code",
   "execution_count": 39,
   "metadata": {},
   "outputs": [],
   "source": [
    "xgb = XGBRegressor(\n",
    "        n_estimators=int(351.213709366579),\n",
    "        max_depth = int(1.7917534355988143),\n",
    "        gamma = 8.47951455118692,\n",
    "        min_child_weight = 0.8148610722659055,\n",
    "        subsample = 0.9535874700807384,\n",
    "        random_state = 42,\n",
    "    )"
   ]
  },
  {
   "cell_type": "markdown",
   "metadata": {},
   "source": [
    "## Hyperparameter tuning of ExtremeGradientBoosting and RandomForest Regressor using Bayesian optimization"
   ]
  },
  {
   "cell_type": "code",
   "execution_count": 40,
   "metadata": {},
   "outputs": [],
   "source": [
    "def xgb_cv(n_estimators, max_depth, gamma, min_child_weight, subsample, data, targets):\n",
    "    estimator = XGBRFRegressor(\n",
    "        n_estimators=n_estimators,\n",
    "        max_depth = max_depth,\n",
    "        gamma = gamma,\n",
    "        min_child_weight=min_child_weight,\n",
    "        subsample = subsample,\n",
    "        random_state = 2,\n",
    "    )\n",
    "    cval = cross_val_score(estimator, data, targets,\n",
    "                           scoring=rmse, cv=5)\n",
    "    return cval.mean()"
   ]
  },
  {
   "cell_type": "code",
   "execution_count": 41,
   "metadata": {},
   "outputs": [],
   "source": [
    "def optimize_xgb(data, targets):\n",
    "    def xgb_crossval(n_estimators, max_depth, gamma, min_child_weight, subsample):\n",
    "        return xgb_cv(\n",
    "            n_estimators=int(n_estimators),\n",
    "            max_depth = int(max_depth),\n",
    "            gamma = gamma,\n",
    "            min_child_weight=min_child_weight,\n",
    "            subsample=subsample,\n",
    "            data=data,\n",
    "            targets=targets,\n",
    "        )\n",
    "\n",
    "    optimizer = BayesianOptimization(\n",
    "        f=xgb_crossval,\n",
    "        pbounds={\n",
    "            \"n_estimators\": (100, 550),\n",
    "            \"max_depth\": (6,15),\n",
    "            \"gamma\": (0,10),\n",
    "            \"min_child_weight\": (0,10),\n",
    "            \"subsample\": (0.8,1.0)\n",
    "        },\n",
    "        random_state=1234,\n",
    "        verbose=2\n",
    "    )\n",
    "    optimizer.maximize(n_iter=15, init_points=10)\n",
    "\n",
    "    print(\"Final result:\", optimizer.max)"
   ]
  },
  {
   "cell_type": "code",
   "execution_count": 42,
   "metadata": {},
   "outputs": [
    {
     "name": "stdout",
     "output_type": "stream",
     "text": [
      "\u001b[91m--- Optimizing XGBoost RandomForest ---\u001b[0m\n",
      "|   iter    |  target   |   gamma   | max_depth | min_ch... | n_esti... | subsample |\n",
      "-------------------------------------------------------------------------------------\n",
      "| \u001b[0m 1       \u001b[0m | \u001b[0m-4.201   \u001b[0m | \u001b[0m 1.915   \u001b[0m | \u001b[0m 11.6    \u001b[0m | \u001b[0m 4.377   \u001b[0m | \u001b[0m 453.4   \u001b[0m | \u001b[0m 0.956   \u001b[0m |\n",
      "| \u001b[0m 2       \u001b[0m | \u001b[0m-4.521   \u001b[0m | \u001b[0m 2.726   \u001b[0m | \u001b[0m 8.488   \u001b[0m | \u001b[0m 8.019   \u001b[0m | \u001b[0m 531.2   \u001b[0m | \u001b[0m 0.9752  \u001b[0m |\n",
      "| \u001b[0m 3       \u001b[0m | \u001b[0m-4.269   \u001b[0m | \u001b[0m 3.578   \u001b[0m | \u001b[0m 10.51   \u001b[0m | \u001b[0m 6.835   \u001b[0m | \u001b[0m 420.7   \u001b[0m | \u001b[0m 0.8741  \u001b[0m |\n",
      "| \u001b[0m 4       \u001b[0m | \u001b[0m-4.299   \u001b[0m | \u001b[0m 5.612   \u001b[0m | \u001b[0m 10.53   \u001b[0m | \u001b[0m 0.1377  \u001b[0m | \u001b[0m 447.8   \u001b[0m | \u001b[0m 0.9765  \u001b[0m |\n",
      "| \u001b[0m 5       \u001b[0m | \u001b[0m-4.234   \u001b[0m | \u001b[0m 3.649   \u001b[0m | \u001b[0m 11.54   \u001b[0m | \u001b[0m 0.7538  \u001b[0m | \u001b[0m 266.0   \u001b[0m | \u001b[0m 0.9866  \u001b[0m |\n",
      "| \u001b[0m 6       \u001b[0m | \u001b[0m-4.377   \u001b[0m | \u001b[0m 6.514   \u001b[0m | \u001b[0m 9.575   \u001b[0m | \u001b[0m 7.887   \u001b[0m | \u001b[0m 242.6   \u001b[0m | \u001b[0m 0.9136  \u001b[0m |\n",
      "| \u001b[0m 7       \u001b[0m | \u001b[0m-4.4     \u001b[0m | \u001b[0m 8.691   \u001b[0m | \u001b[0m 9.926   \u001b[0m | \u001b[0m 8.021   \u001b[0m | \u001b[0m 164.7   \u001b[0m | \u001b[0m 0.9409  \u001b[0m |\n",
      "| \u001b[0m 8       \u001b[0m | \u001b[0m-4.665   \u001b[0m | \u001b[0m 7.046   \u001b[0m | \u001b[0m 7.969   \u001b[0m | \u001b[0m 9.249   \u001b[0m | \u001b[0m 299.0   \u001b[0m | \u001b[0m 0.9819  \u001b[0m |\n",
      "| \u001b[0m 9       \u001b[0m | \u001b[0m-4.628   \u001b[0m | \u001b[0m 0.5981  \u001b[0m | \u001b[0m 7.659   \u001b[0m | \u001b[0m 0.4736  \u001b[0m | \u001b[0m 403.7   \u001b[0m | \u001b[0m 0.9189  \u001b[0m |\n",
      "| \u001b[0m 10      \u001b[0m | \u001b[0m-4.79    \u001b[0m | \u001b[0m 5.333   \u001b[0m | \u001b[0m 6.39    \u001b[0m | \u001b[0m 5.614   \u001b[0m | \u001b[0m 248.4   \u001b[0m | \u001b[0m 0.9006  \u001b[0m |\n",
      "| \u001b[0m 11      \u001b[0m | \u001b[0m-4.619   \u001b[0m | \u001b[0m 5.153   \u001b[0m | \u001b[0m 7.633   \u001b[0m | \u001b[0m 3.77    \u001b[0m | \u001b[0m 134.2   \u001b[0m | \u001b[0m 0.8525  \u001b[0m |\n",
      "| \u001b[95m 12      \u001b[0m | \u001b[95m-4.116   \u001b[0m | \u001b[95m 3.824   \u001b[0m | \u001b[95m 13.39   \u001b[0m | \u001b[95m 4.05    \u001b[0m | \u001b[95m 436.9   \u001b[0m | \u001b[95m 0.9551  \u001b[0m |\n",
      "| \u001b[0m 13      \u001b[0m | \u001b[0m-4.646   \u001b[0m | \u001b[0m 1.111   \u001b[0m | \u001b[0m 7.967   \u001b[0m | \u001b[0m 6.716   \u001b[0m | \u001b[0m 486.7   \u001b[0m | \u001b[0m 0.9595  \u001b[0m |\n",
      "| \u001b[0m 14      \u001b[0m | \u001b[0m-4.124   \u001b[0m | \u001b[0m 8.317   \u001b[0m | \u001b[0m 13.26   \u001b[0m | \u001b[0m 0.9797  \u001b[0m | \u001b[0m 271.3   \u001b[0m | \u001b[0m 0.9759  \u001b[0m |\n",
      "| \u001b[0m 15      \u001b[0m | \u001b[0m-4.144   \u001b[0m | \u001b[0m 1.406   \u001b[0m | \u001b[0m 13.6    \u001b[0m | \u001b[0m 6.52    \u001b[0m | \u001b[0m 442.9   \u001b[0m | \u001b[0m 0.9402  \u001b[0m |\n",
      "| \u001b[0m 16      \u001b[0m | \u001b[0m-4.381   \u001b[0m | \u001b[0m 0.1524  \u001b[0m | \u001b[0m 9.631   \u001b[0m | \u001b[0m 9.976   \u001b[0m | \u001b[0m 434.7   \u001b[0m | \u001b[0m 0.8515  \u001b[0m |\n",
      "| \u001b[0m 17      \u001b[0m | \u001b[0m-4.179   \u001b[0m | \u001b[0m 8.876   \u001b[0m | \u001b[0m 15.0    \u001b[0m | \u001b[0m 6.989   \u001b[0m | \u001b[0m 440.9   \u001b[0m | \u001b[0m 1.0     \u001b[0m |\n",
      "| \u001b[95m 18      \u001b[0m | \u001b[95m-4.02    \u001b[0m | \u001b[95m 1.69    \u001b[0m | \u001b[95m 15.0    \u001b[0m | \u001b[95m 0.0     \u001b[0m | \u001b[95m 275.6   \u001b[0m | \u001b[95m 0.8886  \u001b[0m |\n",
      "| \u001b[0m 19      \u001b[0m | \u001b[0m-4.159   \u001b[0m | \u001b[0m 0.9454  \u001b[0m | \u001b[0m 14.52   \u001b[0m | \u001b[0m 8.439   \u001b[0m | \u001b[0m 274.1   \u001b[0m | \u001b[0m 0.8815  \u001b[0m |\n",
      "| \u001b[0m 20      \u001b[0m | \u001b[0m-4.618   \u001b[0m | \u001b[0m 0.4591  \u001b[0m | \u001b[0m 7.145   \u001b[0m | \u001b[0m 0.2923  \u001b[0m | \u001b[0m 278.5   \u001b[0m | \u001b[0m 0.8879  \u001b[0m |\n",
      "| \u001b[0m 21      \u001b[0m | \u001b[0m-4.069   \u001b[0m | \u001b[0m 1.87    \u001b[0m | \u001b[0m 14.8    \u001b[0m | \u001b[0m 3.142   \u001b[0m | \u001b[0m 272.5   \u001b[0m | \u001b[0m 0.9234  \u001b[0m |\n",
      "| \u001b[0m 22      \u001b[0m | \u001b[0m-4.046   \u001b[0m | \u001b[0m 7.635   \u001b[0m | \u001b[0m 15.0    \u001b[0m | \u001b[0m 3.742   \u001b[0m | \u001b[0m 278.4   \u001b[0m | \u001b[0m 0.8     \u001b[0m |\n",
      "| \u001b[0m 23      \u001b[0m | \u001b[0m-4.095   \u001b[0m | \u001b[0m 9.052   \u001b[0m | \u001b[0m 13.48   \u001b[0m | \u001b[0m 0.4914  \u001b[0m | \u001b[0m 429.3   \u001b[0m | \u001b[0m 0.9381  \u001b[0m |\n",
      "| \u001b[0m 24      \u001b[0m | \u001b[0m-4.773   \u001b[0m | \u001b[0m 10.0    \u001b[0m | \u001b[0m 6.0     \u001b[0m | \u001b[0m 0.0     \u001b[0m | \u001b[0m 434.1   \u001b[0m | \u001b[0m 0.8     \u001b[0m |\n",
      "| \u001b[0m 25      \u001b[0m | \u001b[0m-4.142   \u001b[0m | \u001b[0m 8.855   \u001b[0m | \u001b[0m 15.0    \u001b[0m | \u001b[0m 7.777   \u001b[0m | \u001b[0m 273.5   \u001b[0m | \u001b[0m 0.9191  \u001b[0m |\n",
      "=====================================================================================\n",
      "Final result: {'target': -4.019930759901191, 'params': {'gamma': 1.6904595841784635, 'max_depth': 15.0, 'min_child_weight': 0.0, 'n_estimators': 275.553942931355, 'subsample': 0.8885871371553521}}\n"
     ]
    }
   ],
   "source": [
    "print(Colours.red(\"--- Optimizing XGBoost RandomForest ---\"))\n",
    "optimize_xgb(x_train, y_train)"
   ]
  },
  {
   "cell_type": "code",
   "execution_count": 43,
   "metadata": {},
   "outputs": [],
   "source": [
    "xgbrf = XGBRFRegressor(\n",
    "        n_estimators=int(275.553942931355),\n",
    "        max_depth = int(15.0),\n",
    "        gamma = 1.6904595841784635,\n",
    "        min_child_weight=0.0,\n",
    "        subsample = 0.8885871371553521,\n",
    "        random_state = 42,\n",
    "    )"
   ]
  },
  {
   "cell_type": "markdown",
   "metadata": {},
   "source": [
    "## Stacking all the models "
   ]
  },
  {
   "cell_type": "code",
   "execution_count": 44,
   "metadata": {},
   "outputs": [],
   "source": [
    "estimators = [('etc', etc), ('rfc', rfc), ('xgb', xgb), ('lgb', lgb), ('xgbrf', xgbrf)]\n",
    "\n",
    "model = StackingRegressor(estimators=estimators)"
   ]
  },
  {
   "cell_type": "code",
   "execution_count": 45,
   "metadata": {},
   "outputs": [
    {
     "data": {
      "text/plain": [
       "array([-3.58851075, -3.62890407, -3.85200739, -3.79927921, -3.76554997])"
      ]
     },
     "execution_count": 45,
     "metadata": {},
     "output_type": "execute_result"
    }
   ],
   "source": [
    "scores = cross_val_score(model, x_train, y_train, cv = 5, scoring = rmse)\n",
    "\n",
    "scores"
   ]
  },
  {
   "cell_type": "code",
   "execution_count": 46,
   "metadata": {},
   "outputs": [
    {
     "data": {
      "text/plain": [
       "-3.726850278518188"
      ]
     },
     "execution_count": 46,
     "metadata": {},
     "output_type": "execute_result"
    }
   ],
   "source": [
    "scores.mean()"
   ]
  },
  {
   "cell_type": "markdown",
   "metadata": {},
   "source": [
    "## Checking the model performance by ploting the Learning Curve"
   ]
  },
  {
   "cell_type": "code",
   "execution_count": 47,
   "metadata": {},
   "outputs": [],
   "source": [
    "from sklearn.model_selection import learning_curve\n",
    "x_train = train.values\n",
    "y_train = target.values"
   ]
  },
  {
   "cell_type": "code",
   "execution_count": 49,
   "metadata": {},
   "outputs": [],
   "source": [
    "train_sizes, train_scores, valid_scores = learning_curve(\n",
    "model , x_train, y_train, train_sizes=np.linspace(0.01, 1.0, 5), scoring=rmse, cv=5)"
   ]
  },
  {
   "cell_type": "code",
   "execution_count": 50,
   "metadata": {},
   "outputs": [
    {
     "name": "stdout",
     "output_type": "stream",
     "text": [
      "Mean training scores\n",
      "\n",
      " 73      3.857711\n",
      "1883    0.910137\n",
      "3694    1.063144\n",
      "5505    1.004915\n",
      "7316    1.012081\n",
      "dtype: float64\n",
      "\n",
      " --------------------\n",
      "\n",
      "Mean valid scores\n",
      "\n",
      " 73      5.881668\n",
      "1883    4.260384\n",
      "3694    3.971791\n",
      "5505    3.832624\n",
      "7316    3.728119\n",
      "dtype: float64\n"
     ]
    }
   ],
   "source": [
    "train_scores_mean = -train_scores.mean(axis = 1)\n",
    "valid_scores_mean = -valid_scores.mean(axis = 1)\n",
    "print('Mean training scores\\n\\n', pd.Series(train_scores_mean, index = train_sizes))\n",
    "print('\\n', '-' * 20) # separator\n",
    "print('\\nMean valid scores\\n\\n',pd.Series(valid_scores_mean, index = train_sizes))"
   ]
  },
  {
   "cell_type": "code",
   "execution_count": 51,
   "metadata": {},
   "outputs": [
    {
     "data": {
      "text/plain": [
       "<matplotlib.legend.Legend at 0x1cd81617a08>"
      ]
     },
     "execution_count": 51,
     "metadata": {},
     "output_type": "execute_result"
    },
    {
     "data": {
      "image/png": "[encoded data removed]",
      "text/plain": [
       "<Figure size 576x396 with 1 Axes>"
      ]
     },
     "metadata": {},
     "output_type": "display_data"
    }
   ],
   "source": [
    "plt.style.use('seaborn')\n",
    "plt.plot(train_sizes, train_scores_mean, label = 'Training error')\n",
    "plt.plot(train_sizes, valid_scores_mean, label = 'Validation error')\n",
    "plt.ylabel('RMSE', fontsize = 14)\n",
    "plt.xlabel('Training set size', fontsize = 14)\n",
    "plt.title('Learning curves for regression model', fontsize = 18, y = 1.03)\n",
    "plt.legend()"
   ]
  },
  {
   "cell_type": "markdown",
   "metadata": {},
   "source": [
    "### Building Model and Checking its Performance on an Unseen Data\n",
    "\n",
    "### Size of the DataSet : 9146\n",
    "### Size of Train DataSet : 7317 (why ? Because Model has least error for this size of dataset)\n",
    "### Size of Test DataSet : 1829"
   ]
  },
  {
   "cell_type": "code",
   "execution_count": 85,
   "metadata": {},
   "outputs": [],
   "source": [
    "df = pd.concat([train,target], axis=1)\n",
    "x_train = df.iloc[:7317,:22].values\n",
    "y_train = df.iloc[:7317,-1].values\n",
    "x_test  = df.iloc[7317:,:22].values\n",
    "y_actual= df.iloc[7317:,-1].values"
   ]
  },
  {
   "cell_type": "code",
   "execution_count": 86,
   "metadata": {},
   "outputs": [],
   "source": [
    "reg = model.fit(x_train,y_train)"
   ]
  },
  {
   "cell_type": "code",
   "execution_count": 83,
   "metadata": {},
   "outputs": [],
   "source": [
    "y_pred = reg.predict(x_test)"
   ]
  },
  {
   "cell_type": "code",
   "execution_count": 84,
   "metadata": {},
   "outputs": [
    {
     "data": {
      "text/plain": [
       "3.7498458048813794"
      ]
     },
     "execution_count": 84,
     "metadata": {},
     "output_type": "execute_result"
    }
   ],
   "source": [
    "RMSE(y_actual,y_pred)"
   ]
  }
 ],
 "metadata": {
  "kernelspec": {
   "display_name": "Python 3",
   "language": "python",
   "name": "python3"
  },
  "language_info": {
   "codemirror_mode": {
    "name": "ipython",
    "version": 3
   },
   "file_extension": ".py",
   "mimetype": "text/x-python",
   "name": "python",
   "nbconvert_exporter": "python",
   "pygments_lexer": "ipython3",
   "version": "3.7.6"
  }
 },
 "nbformat": 4,
 "nbformat_minor": 4
}
