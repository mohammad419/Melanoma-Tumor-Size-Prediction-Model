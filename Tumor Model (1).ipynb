{
 "cells": [
  {
   "cell_type": "markdown",
   "metadata": {},
   "source": [
    "# Data Science Regression Project: Melanoma Tumor Size Prediction\n",
    "\n",
    "\n",
    "## Loading Required Libraries"
   ]
  },
  {
   "cell_type": "code",
   "execution_count": 1,
   "metadata": {},
   "outputs": [],
   "source": [
    "import pandas as pd\n",
    "import numpy as np\n",
    "import matplotlib.pyplot as plt\n",
    "import seaborn as sns\n",
    "\n",
    "from sklearn.ensemble import ExtraTreesRegressor, RandomForestRegressor, StackingRegressor\n",
    "from lightgbm import LGBMRegressor\n",
    "from xgboost import XGBRegressor, XGBRFRegressor\n",
    "from catboost import CatBoostRegressor\n",
    "\n",
    "from sklearn.model_selection import cross_val_score\n",
    "from sklearn.metrics import mean_squared_error, make_scorer\n",
    "\n",
    "from bayes_opt import BayesianOptimization\n",
    "from bayes_opt.util import Colours"
   ]
  },
  {
   "cell_type": "markdown",
   "metadata": {},
   "source": [
    "# Data Load: Melanoma Tumor Size into a dataframe"
   ]
  },
  {
   "cell_type": "code",
   "execution_count": 21,
   "metadata": {},
   "outputs": [],
   "source": [
    "train = pd.read_csv(r'E:/Data_Sets/Train_15.csv')\n",
    "test  = pd.read_csv(r'E:/Data_Sets/Test_15.csv')"
   ]
  },
  {
   "cell_type": "code",
   "execution_count": 22,
   "metadata": {},
   "outputs": [
    {
     "data": {
      "text/html": [
       "<div>\n",
       "<style scoped>\n",
       "    .dataframe tbody tr th:only-of-type {\n",
       "        vertical-align: middle;\n",
       "    }\n",
       "\n",
       "    .dataframe tbody tr th {\n",
       "        vertical-align: top;\n",
       "    }\n",
       "\n",
       "    .dataframe thead th {\n",
       "        text-align: right;\n",
       "    }\n",
       "</style>\n",
       "<table border=\"1\" class=\"dataframe\">\n",
       "  <thead>\n",
       "    <tr style=\"text-align: right;\">\n",
       "      <th></th>\n",
       "      <th>mass_npea</th>\n",
       "      <th>size_npear</th>\n",
       "      <th>malign_ratio</th>\n",
       "      <th>damage_size</th>\n",
       "      <th>exposed_area</th>\n",
       "      <th>std_dev_malign</th>\n",
       "      <th>err_malign</th>\n",
       "      <th>malign_penalty</th>\n",
       "      <th>damage_ratio</th>\n",
       "      <th>tumor_size</th>\n",
       "    </tr>\n",
       "  </thead>\n",
       "  <tbody>\n",
       "    <tr>\n",
       "      <th>0</th>\n",
       "      <td>6930.90</td>\n",
       "      <td>2919.02</td>\n",
       "      <td>0.42116</td>\n",
       "      <td>51.8298</td>\n",
       "      <td>9.888294e+05</td>\n",
       "      <td>109.487</td>\n",
       "      <td>2758.76</td>\n",
       "      <td>72</td>\n",
       "      <td>39.3620</td>\n",
       "      <td>14.103</td>\n",
       "    </tr>\n",
       "    <tr>\n",
       "      <th>1</th>\n",
       "      <td>15635.70</td>\n",
       "      <td>4879.36</td>\n",
       "      <td>0.31206</td>\n",
       "      <td>223.5500</td>\n",
       "      <td>2.058426e+06</td>\n",
       "      <td>248.881</td>\n",
       "      <td>5952.53</td>\n",
       "      <td>240</td>\n",
       "      <td>22.0253</td>\n",
       "      <td>2.648</td>\n",
       "    </tr>\n",
       "    <tr>\n",
       "      <th>2</th>\n",
       "      <td>10376.20</td>\n",
       "      <td>2613.88</td>\n",
       "      <td>0.25191</td>\n",
       "      <td>127.3370</td>\n",
       "      <td>1.434676e+06</td>\n",
       "      <td>160.093</td>\n",
       "      <td>4635.26</td>\n",
       "      <td>73</td>\n",
       "      <td>29.9963</td>\n",
       "      <td>1.688</td>\n",
       "    </tr>\n",
       "    <tr>\n",
       "      <th>3</th>\n",
       "      <td>13093.80</td>\n",
       "      <td>4510.06</td>\n",
       "      <td>0.34444</td>\n",
       "      <td>155.4400</td>\n",
       "      <td>1.812195e+06</td>\n",
       "      <td>173.015</td>\n",
       "      <td>5273.87</td>\n",
       "      <td>32</td>\n",
       "      <td>28.1354</td>\n",
       "      <td>3.796</td>\n",
       "    </tr>\n",
       "    <tr>\n",
       "      <th>4</th>\n",
       "      <td>7545.21</td>\n",
       "      <td>2882.36</td>\n",
       "      <td>0.38201</td>\n",
       "      <td>85.1237</td>\n",
       "      <td>1.043918e+06</td>\n",
       "      <td>124.414</td>\n",
       "      <td>3263.35</td>\n",
       "      <td>57</td>\n",
       "      <td>35.0200</td>\n",
       "      <td>18.023</td>\n",
       "    </tr>\n",
       "  </tbody>\n",
       "</table>\n",
       "</div>"
      ],
      "text/plain": [
       "   mass_npea  size_npear  malign_ratio  damage_size  exposed_area  \\\n",
       "0    6930.90     2919.02       0.42116      51.8298  9.888294e+05   \n",
       "1   15635.70     4879.36       0.31206     223.5500  2.058426e+06   \n",
       "2   10376.20     2613.88       0.25191     127.3370  1.434676e+06   \n",
       "3   13093.80     4510.06       0.34444     155.4400  1.812195e+06   \n",
       "4    7545.21     2882.36       0.38201      85.1237  1.043918e+06   \n",
       "\n",
       "   std_dev_malign  err_malign  malign_penalty  damage_ratio  tumor_size  \n",
       "0         109.487     2758.76              72       39.3620      14.103  \n",
       "1         248.881     5952.53             240       22.0253       2.648  \n",
       "2         160.093     4635.26              73       29.9963       1.688  \n",
       "3         173.015     5273.87              32       28.1354       3.796  \n",
       "4         124.414     3263.35              57       35.0200      18.023  "
      ]
     },
     "execution_count": 22,
     "metadata": {},
     "output_type": "execute_result"
    }
   ],
   "source": [
    "train.head()"
   ]
  },
  {
   "cell_type": "code",
   "execution_count": 23,
   "metadata": {},
   "outputs": [
    {
     "data": {
      "text/html": [
       "<div>\n",
       "<style scoped>\n",
       "    .dataframe tbody tr th:only-of-type {\n",
       "        vertical-align: middle;\n",
       "    }\n",
       "\n",
       "    .dataframe tbody tr th {\n",
       "        vertical-align: top;\n",
       "    }\n",
       "\n",
       "    .dataframe thead th {\n",
       "        text-align: right;\n",
       "    }\n",
       "</style>\n",
       "<table border=\"1\" class=\"dataframe\">\n",
       "  <thead>\n",
       "    <tr style=\"text-align: right;\">\n",
       "      <th></th>\n",
       "      <th>mass_npea</th>\n",
       "      <th>size_npear</th>\n",
       "      <th>malign_ratio</th>\n",
       "      <th>damage_size</th>\n",
       "      <th>exposed_area</th>\n",
       "      <th>std_dev_malign</th>\n",
       "      <th>err_malign</th>\n",
       "      <th>malign_penalty</th>\n",
       "      <th>damage_ratio</th>\n",
       "      <th>tumor_size</th>\n",
       "    </tr>\n",
       "  </thead>\n",
       "  <tbody>\n",
       "    <tr>\n",
       "      <th>count</th>\n",
       "      <td>9146.000000</td>\n",
       "      <td>9146.000000</td>\n",
       "      <td>9146.000000</td>\n",
       "      <td>9146.000000</td>\n",
       "      <td>9.146000e+03</td>\n",
       "      <td>9146.000000</td>\n",
       "      <td>9146.000000</td>\n",
       "      <td>9146.000000</td>\n",
       "      <td>9146.000000</td>\n",
       "      <td>9146.000000</td>\n",
       "    </tr>\n",
       "    <tr>\n",
       "      <th>mean</th>\n",
       "      <td>9903.052174</td>\n",
       "      <td>3032.827837</td>\n",
       "      <td>0.303083</td>\n",
       "      <td>103.902118</td>\n",
       "      <td>1.372442e+06</td>\n",
       "      <td>146.304239</td>\n",
       "      <td>3992.936256</td>\n",
       "      <td>69.849661</td>\n",
       "      <td>34.461652</td>\n",
       "      <td>7.723348</td>\n",
       "    </tr>\n",
       "    <tr>\n",
       "      <th>std</th>\n",
       "      <td>4060.577116</td>\n",
       "      <td>1462.334147</td>\n",
       "      <td>0.062533</td>\n",
       "      <td>55.456862</td>\n",
       "      <td>5.646773e+05</td>\n",
       "      <td>70.512177</td>\n",
       "      <td>1780.672859</td>\n",
       "      <td>55.785332</td>\n",
       "      <td>5.972808</td>\n",
       "      <td>6.086852</td>\n",
       "    </tr>\n",
       "    <tr>\n",
       "      <th>min</th>\n",
       "      <td>2864.760000</td>\n",
       "      <td>510.530000</td>\n",
       "      <td>0.114820</td>\n",
       "      <td>10.310100</td>\n",
       "      <td>3.878534e+05</td>\n",
       "      <td>31.970400</td>\n",
       "      <td>1089.190000</td>\n",
       "      <td>0.000000</td>\n",
       "      <td>15.228000</td>\n",
       "      <td>0.000000</td>\n",
       "    </tr>\n",
       "    <tr>\n",
       "      <th>25%</th>\n",
       "      <td>6988.420000</td>\n",
       "      <td>1983.657500</td>\n",
       "      <td>0.259053</td>\n",
       "      <td>64.012525</td>\n",
       "      <td>9.596873e+05</td>\n",
       "      <td>95.853900</td>\n",
       "      <td>3177.682500</td>\n",
       "      <td>31.000000</td>\n",
       "      <td>30.290225</td>\n",
       "      <td>2.320000</td>\n",
       "    </tr>\n",
       "    <tr>\n",
       "      <th>50%</th>\n",
       "      <td>8895.965000</td>\n",
       "      <td>2684.330000</td>\n",
       "      <td>0.301055</td>\n",
       "      <td>88.458300</td>\n",
       "      <td>1.237057e+06</td>\n",
       "      <td>126.138500</td>\n",
       "      <td>3846.320000</td>\n",
       "      <td>54.000000</td>\n",
       "      <td>35.245750</td>\n",
       "      <td>5.060500</td>\n",
       "    </tr>\n",
       "    <tr>\n",
       "      <th>75%</th>\n",
       "      <td>12119.950000</td>\n",
       "      <td>3830.745000</td>\n",
       "      <td>0.343002</td>\n",
       "      <td>134.209000</td>\n",
       "      <td>1.693083e+06</td>\n",
       "      <td>182.251500</td>\n",
       "      <td>4664.577500</td>\n",
       "      <td>91.000000</td>\n",
       "      <td>38.806075</td>\n",
       "      <td>13.336000</td>\n",
       "    </tr>\n",
       "    <tr>\n",
       "      <th>max</th>\n",
       "      <td>36995.400000</td>\n",
       "      <td>13535.000000</td>\n",
       "      <td>0.525300</td>\n",
       "      <td>346.420000</td>\n",
       "      <td>4.978616e+06</td>\n",
       "      <td>528.890000</td>\n",
       "      <td>91983.700000</td>\n",
       "      <td>340.000000</td>\n",
       "      <td>46.546400</td>\n",
       "      <td>20.999000</td>\n",
       "    </tr>\n",
       "  </tbody>\n",
       "</table>\n",
       "</div>"
      ],
      "text/plain": [
       "          mass_npea    size_npear  malign_ratio  damage_size  exposed_area  \\\n",
       "count   9146.000000   9146.000000   9146.000000  9146.000000  9.146000e+03   \n",
       "mean    9903.052174   3032.827837      0.303083   103.902118  1.372442e+06   \n",
       "std     4060.577116   1462.334147      0.062533    55.456862  5.646773e+05   \n",
       "min     2864.760000    510.530000      0.114820    10.310100  3.878534e+05   \n",
       "25%     6988.420000   1983.657500      0.259053    64.012525  9.596873e+05   \n",
       "50%     8895.965000   2684.330000      0.301055    88.458300  1.237057e+06   \n",
       "75%    12119.950000   3830.745000      0.343002   134.209000  1.693083e+06   \n",
       "max    36995.400000  13535.000000      0.525300   346.420000  4.978616e+06   \n",
       "\n",
       "       std_dev_malign    err_malign  malign_penalty  damage_ratio   tumor_size  \n",
       "count     9146.000000   9146.000000     9146.000000   9146.000000  9146.000000  \n",
       "mean       146.304239   3992.936256       69.849661     34.461652     7.723348  \n",
       "std         70.512177   1780.672859       55.785332      5.972808     6.086852  \n",
       "min         31.970400   1089.190000        0.000000     15.228000     0.000000  \n",
       "25%         95.853900   3177.682500       31.000000     30.290225     2.320000  \n",
       "50%        126.138500   3846.320000       54.000000     35.245750     5.060500  \n",
       "75%        182.251500   4664.577500       91.000000     38.806075    13.336000  \n",
       "max        528.890000  91983.700000      340.000000     46.546400    20.999000  "
      ]
     },
     "execution_count": 23,
     "metadata": {},
     "output_type": "execute_result"
    }
   ],
   "source": [
    "train.describe()"
   ]
  },
  {
   "cell_type": "code",
   "execution_count": 24,
   "metadata": {},
   "outputs": [],
   "source": [
    "target = train.pop('tumor_size')"
   ]
  },
  {
   "cell_type": "markdown",
   "metadata": {},
   "source": [
    "## Transformation "
   ]
  },
  {
   "cell_type": "code",
   "execution_count": 25,
   "metadata": {},
   "outputs": [],
   "source": [
    "train['exposed_area'] = np.log1p(train['exposed_area'])\n",
    "\n",
    "test['exposed_area'] = np.log1p(test['exposed_area'])"
   ]
  },
  {
   "cell_type": "markdown",
   "metadata": {},
   "source": [
    "# Feature Engineering\n",
    "\n",
    "## Deriving new columns from the existing in order to have more information available for the model to learn so that it can perform with better accuracy"
   ]
  },
  {
   "cell_type": "code",
   "execution_count": 33,
   "metadata": {},
   "outputs": [],
   "source": [
    "train['penalty-err'] = train['malign_penalty'] - train['err_malign']\n",
    "train['d_size-ratio'] = train['damage_size'] - train['damage_ratio']\n",
    "train['d_ratio-m_ratio'] = train['damage_ratio'] - (train['malign_ratio'])\n",
    "train['penalty/std'] = train['malign_penalty']/train['std_dev_malign']\n",
    "train['mass/area'] = (train['mass_npea'])/(train['exposed_area'])\n",
    "train['area/mass'] = train['exposed_area']/train['mass_npea']\n",
    "train['err/std'] = train['penalty-err']/train['std_dev_malign']\n",
    "train['dsr/ps'] = train['damage_size']/train['penalty-err']\n",
    "train['std/area'] = train['std_dev_malign']/train['exposed_area']\n",
    "train['err/area'] = train['err_malign']/train['exposed_area']\n",
    "train['dr/area'] = (train['damage_ratio']*100)/train['exposed_area']\n",
    "train['std/err'] = (train['std_dev_malign']+1)/(train['err_malign']+1)\n",
    "train['penalty/err'] = (train['malign_penalty']+1)/(train['err_malign']+1)\n",
    "\n",
    "test['penalty-err'] = test['malign_penalty'] - test['err_malign']\n",
    "test['d_size-ratio'] = test['damage_size'] - test['damage_ratio']\n",
    "test['d_ratio-m_ratio'] = test['damage_ratio'] - (test['malign_ratio'])\n",
    "test['penalty/std'] = test['malign_penalty']/test['std_dev_malign']\n",
    "test['mass/area'] = (test['mass_npea'])/(test['exposed_area'])\n",
    "test['area/mass'] = test['exposed_area']/test['mass_npea']\n",
    "test['err/std'] = test['penalty-err']/test['std_dev_malign']\n",
    "test['dsr/ps'] = test['damage_size']/test['penalty-err']\n",
    "test['std/area'] = test['std_dev_malign']/test['exposed_area']\n",
    "test['err/area'] = test['err_malign']/test['exposed_area']\n",
    "test['dr/area'] = (test['damage_ratio']*100)/test['exposed_area']\n",
    "test['std/err'] = (test['std_dev_malign']+1)/(test['err_malign']+1)\n",
    "test['penalty/err'] = (test['malign_penalty']+1)/(test['err_malign']+1)"
   ]
  },
  {
   "cell_type": "code",
   "execution_count": 34,
   "metadata": {},
   "outputs": [
    {
     "name": "stdout",
     "output_type": "stream",
     "text": [
      "<class 'pandas.core.frame.DataFrame'>\n",
      "RangeIndex: 9146 entries, 0 to 9145\n",
      "Data columns (total 22 columns):\n",
      " #   Column           Non-Null Count  Dtype  \n",
      "---  ------           --------------  -----  \n",
      " 0   mass_npea        9146 non-null   float64\n",
      " 1   size_npear       9146 non-null   float64\n",
      " 2   malign_ratio     9146 non-null   float64\n",
      " 3   damage_size      9146 non-null   float64\n",
      " 4   exposed_area     9146 non-null   float64\n",
      " 5   std_dev_malign   9146 non-null   float64\n",
      " 6   err_malign       9146 non-null   float64\n",
      " 7   malign_penalty   9146 non-null   int64  \n",
      " 8   damage_ratio     9146 non-null   float64\n",
      " 9   penalty-err      9146 non-null   float64\n",
      " 10  d_size-ratio     9146 non-null   float64\n",
      " 11  d_ratio-m_ratio  9146 non-null   float64\n",
      " 12  penalty/std      9146 non-null   float64\n",
      " 13  mass/area        9146 non-null   float64\n",
      " 14  area/mass        9146 non-null   float64\n",
      " 15  err/std          9146 non-null   float64\n",
      " 16  dsr/ps           9146 non-null   float64\n",
      " 17  std/area         9146 non-null   float64\n",
      " 18  err/area         9146 non-null   float64\n",
      " 19  dr/area          9146 non-null   float64\n",
      " 20  std/err          9146 non-null   float64\n",
      " 21  penalty/err      9146 non-null   float64\n",
      "dtypes: float64(21), int64(1)\n",
      "memory usage: 1.5 MB\n"
     ]
    }
   ],
   "source": [
    "train.info()"
   ]
  },
  {
   "cell_type": "markdown",
   "metadata": {},
   "source": [
    "## Defining Metric"
   ]
  },
  {
   "cell_type": "code",
   "execution_count": 6,
   "metadata": {},
   "outputs": [],
   "source": [
    "def RMSE(y_true,y_pred):\n",
    "    return np.sqrt(mean_squared_error(y_true,y_pred))\n",
    "rmse = make_scorer(RMSE, greater_is_better=False)"
   ]
  },
  {
   "cell_type": "markdown",
   "metadata": {},
   "source": [
    "## Hyperparameter tuning of Extratrees Regressor using Bayesian optimization"
   ]
  },
  {
   "cell_type": "code",
   "execution_count": 7,
   "metadata": {},
   "outputs": [],
   "source": [
    "def etc_cv(n_estimators, min_samples_split, max_features, data, target):\n",
    "    estimator = ExtraTreesRegressor(\n",
    "            n_estimators=n_estimators,\n",
    "            min_samples_split=min_samples_split,\n",
    "            max_features=max_features,\n",
    "            random_state=2,\n",
    "            n_jobs=-1\n",
    "    )\n",
    "    cval = cross_val_score(estimator, data, target, scoring=rmse, cv=5)\n",
    "    \n",
    "    return cval.mean()"
   ]
  },
  {
   "cell_type": "code",
   "execution_count": 8,
   "metadata": {},
   "outputs": [],
   "source": [
    "def optimize_etc(data, target):\n",
    "    def etc_crossval(n_estimators, min_samples_split, max_features):\n",
    "        return etc_cv(\n",
    "                n_estimators=int(n_estimators),\n",
    "                min_samples_split=int(min_samples_split),\n",
    "                max_features=max(min(max_features, 0.999), 1e-3),\n",
    "                data=data,\n",
    "                target=target,\n",
    "                )\n",
    "    optimizer = BayesianOptimization(\n",
    "        f=etc_crossval,\n",
    "        pbounds={\n",
    "            \"n_estimators\":(100,400),\n",
    "            \"min_samples_split\":(2,25),\n",
    "            \"max_features\": (0.1,0.9)\n",
    "        },\n",
    "        random_state=42,\n",
    "        verbose=2\n",
    "    )\n",
    "    optimizer.maximize(n_iter=15, init_points=5)\n",
    "    \n",
    "    print(\"Final result:\", optimizer.max)"
   ]
  },
  {
   "cell_type": "code",
   "execution_count": 35,
   "metadata": {},
   "outputs": [
    {
     "name": "stdout",
     "output_type": "stream",
     "text": [
      "\u001b[93m--- Optimizing Extra Trees ---\u001b[0m\n",
      "|   iter    |  target   | max_fe... | min_sa... | n_esti... |\n",
      "-------------------------------------------------------------\n",
      "| \u001b[0m 1       \u001b[0m | \u001b[0m-4.092   \u001b[0m | \u001b[0m 0.3996  \u001b[0m | \u001b[0m 23.87   \u001b[0m | \u001b[0m 319.6   \u001b[0m |\n",
      "| \u001b[95m 2       \u001b[0m | \u001b[95m-3.817   \u001b[0m | \u001b[95m 0.5789  \u001b[0m | \u001b[95m 5.588   \u001b[0m | \u001b[95m 146.8   \u001b[0m |\n",
      "| \u001b[0m 3       \u001b[0m | \u001b[0m-4.192   \u001b[0m | \u001b[0m 0.1465  \u001b[0m | \u001b[0m 21.92   \u001b[0m | \u001b[0m 280.3   \u001b[0m |\n",
      "| \u001b[95m 4       \u001b[0m | \u001b[95m-3.779   \u001b[0m | \u001b[95m 0.6665  \u001b[0m | \u001b[95m 2.473   \u001b[0m | \u001b[95m 391.0   \u001b[0m |\n",
      "| \u001b[0m 5       \u001b[0m | \u001b[0m-3.83    \u001b[0m | \u001b[0m 0.766   \u001b[0m | \u001b[0m 6.884   \u001b[0m | \u001b[0m 154.5   \u001b[0m |\n",
      "| \u001b[0m 6       \u001b[0m | \u001b[0m-4.066   \u001b[0m | \u001b[0m 0.9     \u001b[0m | \u001b[0m 25.0    \u001b[0m | \u001b[0m 100.0   \u001b[0m |\n",
      "| \u001b[95m 7       \u001b[0m | \u001b[95m-3.772   \u001b[0m | \u001b[95m 0.3464  \u001b[0m | \u001b[95m 2.026   \u001b[0m | \u001b[95m 392.3   \u001b[0m |\n",
      "| \u001b[0m 8       \u001b[0m | \u001b[0m-4.331   \u001b[0m | \u001b[0m 0.1     \u001b[0m | \u001b[0m 25.0    \u001b[0m | \u001b[0m 400.0   \u001b[0m |\n",
      "| \u001b[0m 9       \u001b[0m | \u001b[0m-4.333   \u001b[0m | \u001b[0m 0.1     \u001b[0m | \u001b[0m 25.0    \u001b[0m | \u001b[0m 145.0   \u001b[0m |\n",
      "| \u001b[0m 10      \u001b[0m | \u001b[0m-3.789   \u001b[0m | \u001b[0m 0.7983  \u001b[0m | \u001b[0m 2.0     \u001b[0m | \u001b[0m 171.4   \u001b[0m |\n",
      "| \u001b[0m 11      \u001b[0m | \u001b[0m-3.787   \u001b[0m | \u001b[0m 0.4474  \u001b[0m | \u001b[0m 2.0     \u001b[0m | \u001b[0m 189.9   \u001b[0m |\n",
      "| \u001b[0m 12      \u001b[0m | \u001b[0m-4.014   \u001b[0m | \u001b[0m 0.9     \u001b[0m | \u001b[0m 20.98   \u001b[0m | \u001b[0m 187.0   \u001b[0m |\n",
      "| \u001b[0m 13      \u001b[0m | \u001b[0m-3.863   \u001b[0m | \u001b[0m 0.1     \u001b[0m | \u001b[0m 2.0     \u001b[0m | \u001b[0m 209.9   \u001b[0m |\n",
      "| \u001b[0m 14      \u001b[0m | \u001b[0m-3.857   \u001b[0m | \u001b[0m 0.1     \u001b[0m | \u001b[0m 2.0     \u001b[0m | \u001b[0m 364.5   \u001b[0m |\n",
      "| \u001b[0m 15      \u001b[0m | \u001b[0m-3.792   \u001b[0m | \u001b[0m 0.9     \u001b[0m | \u001b[0m 2.0     \u001b[0m | \u001b[0m 236.5   \u001b[0m |\n",
      "| \u001b[0m 16      \u001b[0m | \u001b[0m-4.191   \u001b[0m | \u001b[0m 0.1731  \u001b[0m | \u001b[0m 21.72   \u001b[0m | \u001b[0m 230.5   \u001b[0m |\n",
      "| \u001b[0m 17      \u001b[0m | \u001b[0m-3.791   \u001b[0m | \u001b[0m 0.9     \u001b[0m | \u001b[0m 2.0     \u001b[0m | \u001b[0m 251.8   \u001b[0m |\n",
      "| \u001b[0m 18      \u001b[0m | \u001b[0m-4.118   \u001b[0m | \u001b[0m 0.3029  \u001b[0m | \u001b[0m 23.89   \u001b[0m | \u001b[0m 357.3   \u001b[0m |\n",
      "| \u001b[0m 19      \u001b[0m | \u001b[0m-3.798   \u001b[0m | \u001b[0m 0.9     \u001b[0m | \u001b[0m 2.0     \u001b[0m | \u001b[0m 126.1   \u001b[0m |\n",
      "| \u001b[0m 20      \u001b[0m | \u001b[0m-3.801   \u001b[0m | \u001b[0m 0.9     \u001b[0m | \u001b[0m 2.0     \u001b[0m | \u001b[0m 108.2   \u001b[0m |\n",
      "=============================================================\n",
      "Final result: {'target': -3.7718781127340093, 'params': {'max_features': 0.34640819636969217, 'min_samples_split': 2.0259434886125725, 'n_estimators': 392.3242333129391}}\n"
     ]
    }
   ],
   "source": [
    "print(Colours.yellow(\"--- Optimizing Extra Trees ---\"))\n",
    "optimize_etc(train, target)"
   ]
  },
  {
   "cell_type": "code",
   "execution_count": 36,
   "metadata": {},
   "outputs": [],
   "source": [
    "etc = ExtraTreesRegressor(n_estimators=int(392.3242333129391),\n",
    "                         min_samples_split=int(2.0259434886125725),\n",
    "                         max_features=0.34640819636969217,\n",
    "                         n_jobs = -1,\n",
    "                         random_state = 42)"
   ]
  },
  {
   "cell_type": "markdown",
   "metadata": {},
   "source": [
    "## Hyperparameter tuning of RandomForest Regressor using Bayesian optimization"
   ]
  },
  {
   "cell_type": "code",
   "execution_count": 29,
   "metadata": {},
   "outputs": [],
   "source": [
    "def rfc_cv(n_estimators, min_samples_split, max_features, data, target):\n",
    "    estimator = RandomForestRegressor(\n",
    "            n_estimators=n_estimators,\n",
    "            min_samples_split=min_samples_split,\n",
    "            max_features=max_features,\n",
    "            random_state=42,\n",
    "            n_jobs=-1\n",
    "    )\n",
    "    cval = cross_val_score(estimator, data, target, scoring=rmse, cv=5)\n",
    "    \n",
    "    return cval.mean()"
   ]
  },
  {
   "cell_type": "code",
   "execution_count": 30,
   "metadata": {},
   "outputs": [],
   "source": [
    "def optimize_rfc(data, target):\n",
    "    def rfc_crossval(n_estimators, min_samples_split, max_features):\n",
    "        return rfc_cv(\n",
    "            n_estimators=int(n_estimators),\n",
    "            min_samples_split=int(min_samples_split),\n",
    "            max_features=max(min(max_features, 0.9), 1e-3),\n",
    "            data=data,\n",
    "            target=target,\n",
    "            )\n",
    "    optimizer = BayesianOptimization(\n",
    "        f=rfc_crossval,\n",
    "        pbounds={\n",
    "            \"n_estimators\":(100,500),\n",
    "            \"min_samples_split\":(2,25),\n",
    "            \"max_features\":(0.1,0.9),\n",
    "        },\n",
    "        random_state=1234,\n",
    "        verbose=2\n",
    "    )\n",
    "    optimizer.maximize(n_iter=15, init_points=10)\n",
    "    \n",
    "    print(\"Final result:\", optimizer.max)"
   ]
  },
  {
   "cell_type": "code",
   "execution_count": 37,
   "metadata": {},
   "outputs": [
    {
     "name": "stdout",
     "output_type": "stream",
     "text": [
      "\u001b[92m--- Optimizing Random Forest ---\u001b[0m\n",
      "|   iter    |  target   | max_fe... | min_sa... | n_esti... |\n",
      "-------------------------------------------------------------\n",
      "| \u001b[0m 1       \u001b[0m | \u001b[0m-4.044   \u001b[0m | \u001b[0m 0.2532  \u001b[0m | \u001b[0m 16.31   \u001b[0m | \u001b[0m 275.1   \u001b[0m |\n",
      "| \u001b[0m 2       \u001b[0m | \u001b[0m-4.098   \u001b[0m | \u001b[0m 0.7283  \u001b[0m | \u001b[0m 19.94   \u001b[0m | \u001b[0m 209.0   \u001b[0m |\n",
      "| \u001b[0m 3       \u001b[0m | \u001b[0m-4.074   \u001b[0m | \u001b[0m 0.3212  \u001b[0m | \u001b[0m 20.44   \u001b[0m | \u001b[0m 483.3   \u001b[0m |\n",
      "| \u001b[95m 4       \u001b[0m | \u001b[95m-4.022   \u001b[0m | \u001b[95m 0.8007  \u001b[0m | \u001b[95m 10.23   \u001b[0m | \u001b[95m 300.4   \u001b[0m |\n",
      "| \u001b[0m 5       \u001b[0m | \u001b[0m-4.077   \u001b[0m | \u001b[0m 0.6468  \u001b[0m | \u001b[0m 18.39   \u001b[0m | \u001b[0m 248.1   \u001b[0m |\n",
      "| \u001b[0m 6       \u001b[0m | \u001b[0m-4.037   \u001b[0m | \u001b[0m 0.549   \u001b[0m | \u001b[0m 13.57   \u001b[0m | \u001b[0m 105.5   \u001b[0m |\n",
      "| \u001b[0m 7       \u001b[0m | \u001b[0m-4.117   \u001b[0m | \u001b[0m 0.7183  \u001b[0m | \u001b[0m 22.3    \u001b[0m | \u001b[0m 246.0   \u001b[0m |\n",
      "| \u001b[95m 8       \u001b[0m | \u001b[95m-3.947   \u001b[0m | \u001b[95m 0.5923  \u001b[0m | \u001b[95m 3.734   \u001b[0m | \u001b[95m 247.5   \u001b[0m |\n",
      "| \u001b[0m 9       \u001b[0m | \u001b[0m-4.077   \u001b[0m | \u001b[0m 0.8465  \u001b[0m | \u001b[0m 16.98   \u001b[0m | \u001b[0m 258.9   \u001b[0m |\n",
      "| \u001b[0m 10      \u001b[0m | \u001b[0m-4.015   \u001b[0m | \u001b[0m 0.731   \u001b[0m | \u001b[0m 9.287   \u001b[0m | \u001b[0m 327.2   \u001b[0m |\n",
      "| \u001b[95m 11      \u001b[0m | \u001b[95m-3.924   \u001b[0m | \u001b[95m 0.1662  \u001b[0m | \u001b[95m 2.0     \u001b[0m | \u001b[95m 243.5   \u001b[0m |\n",
      "| \u001b[0m 12      \u001b[0m | \u001b[0m-3.977   \u001b[0m | \u001b[0m 0.9     \u001b[0m | \u001b[0m 2.0     \u001b[0m | \u001b[0m 232.8   \u001b[0m |\n",
      "| \u001b[0m 13      \u001b[0m | \u001b[0m-4.193   \u001b[0m | \u001b[0m 0.1     \u001b[0m | \u001b[0m 25.0    \u001b[0m | \u001b[0m 349.8   \u001b[0m |\n",
      "| \u001b[0m 14      \u001b[0m | \u001b[0m-3.976   \u001b[0m | \u001b[0m 0.7313  \u001b[0m | \u001b[0m 2.0     \u001b[0m | \u001b[0m 142.6   \u001b[0m |\n",
      "| \u001b[0m 15      \u001b[0m | \u001b[0m-4.121   \u001b[0m | \u001b[0m 0.7447  \u001b[0m | \u001b[0m 22.43   \u001b[0m | \u001b[0m 145.3   \u001b[0m |\n",
      "| \u001b[0m 16      \u001b[0m | \u001b[0m-3.934   \u001b[0m | \u001b[0m 0.4209  \u001b[0m | \u001b[0m 2.432   \u001b[0m | \u001b[0m 126.2   \u001b[0m |\n",
      "| \u001b[95m 17      \u001b[0m | \u001b[95m-3.922   \u001b[0m | \u001b[95m 0.4101  \u001b[0m | \u001b[95m 2.489   \u001b[0m | \u001b[95m 421.7   \u001b[0m |\n",
      "| \u001b[0m 18      \u001b[0m | \u001b[0m-4.095   \u001b[0m | \u001b[0m 0.9     \u001b[0m | \u001b[0m 18.95   \u001b[0m | \u001b[0m 422.6   \u001b[0m |\n",
      "| \u001b[0m 19      \u001b[0m | \u001b[0m-3.941   \u001b[0m | \u001b[0m 0.1     \u001b[0m | \u001b[0m 2.0     \u001b[0m | \u001b[0m 409.7   \u001b[0m |\n",
      "| \u001b[0m 20      \u001b[0m | \u001b[0m-3.94    \u001b[0m | \u001b[0m 0.1     \u001b[0m | \u001b[0m 2.0     \u001b[0m | \u001b[0m 437.9   \u001b[0m |\n",
      "| \u001b[0m 21      \u001b[0m | \u001b[0m-3.974   \u001b[0m | \u001b[0m 0.9     \u001b[0m | \u001b[0m 2.0     \u001b[0m | \u001b[0m 456.2   \u001b[0m |\n",
      "| \u001b[0m 22      \u001b[0m | \u001b[0m-3.975   \u001b[0m | \u001b[0m 0.9     \u001b[0m | \u001b[0m 2.0     \u001b[0m | \u001b[0m 388.8   \u001b[0m |\n",
      "| \u001b[0m 23      \u001b[0m | \u001b[0m-3.943   \u001b[0m | \u001b[0m 0.1     \u001b[0m | \u001b[0m 2.0     \u001b[0m | \u001b[0m 174.9   \u001b[0m |\n",
      "| \u001b[0m 24      \u001b[0m | \u001b[0m-4.126   \u001b[0m | \u001b[0m 0.1     \u001b[0m | \u001b[0m 18.37   \u001b[0m | \u001b[0m 178.3   \u001b[0m |\n",
      "| \u001b[0m 25      \u001b[0m | \u001b[0m-3.944   \u001b[0m | \u001b[0m 0.1     \u001b[0m | \u001b[0m 2.0     \u001b[0m | \u001b[0m 161.9   \u001b[0m |\n",
      "=============================================================\n",
      "Final result: {'target': -3.921953191672343, 'params': {'max_features': 0.41013558840105446, 'min_samples_split': 2.4893231506864923, 'n_estimators': 421.6986461274645}}\n"
     ]
    }
   ],
   "source": [
    "print(Colours.green(\"--- Optimizing Random Forest ---\"))\n",
    "optimize_rfc(train, target)"
   ]
  },
  {
   "cell_type": "code",
   "execution_count": 38,
   "metadata": {},
   "outputs": [],
   "source": [
    "rfc = RandomForestRegressor(n_estimators = int(421.6986461274645),\n",
    "                           min_samples_split=int(2.4893231506864923),\n",
    "                           max_features = 0.41013558840105446,\n",
    "                           n_jobs = -1, \n",
    "                           random_state = 42)"
   ]
  },
  {
   "cell_type": "markdown",
   "metadata": {},
   "source": [
    "## Hyperparameter tuning of LightGradientBoosting Regressor using Bayesian optimization"
   ]
  },
  {
   "cell_type": "code",
   "execution_count": 46,
   "metadata": {},
   "outputs": [],
   "source": [
    "def lgb_cv(n_estimators, num_leaves, min_child_samples, subsample, data, target):\n",
    "    estimator = LGBMRegressor(\n",
    "        n_estimators=n_estimators,\n",
    "        num_leaves=num_leaves,\n",
    "        min_child_samples=min_child_samples,\n",
    "        subsample=subsample,\n",
    "        random_state=2\n",
    "    )\n",
    "    cval = cross_val_score(estimator, data, target, scoring=rmse, cv=5)\n",
    "    \n",
    "    return cval.mean()"
   ]
  },
  {
   "cell_type": "code",
   "execution_count": 47,
   "metadata": {},
   "outputs": [],
   "source": [
    "def optimize_lgb(data, targets):\n",
    "    def lgb_crossval(n_estimators, num_leaves, min_child_samples, subsample):\n",
    "        return lgb_cv(\n",
    "            n_estimators=int(n_estimators),\n",
    "            num_leaves= int(num_leaves),\n",
    "            min_child_samples=int(min_child_samples),\n",
    "            subsample=subsample,\n",
    "            data=data,\n",
    "            target=target,\n",
    "        )\n",
    "    \n",
    "    optimizer = BayesianOptimization(\n",
    "        f=lgb_crossval,\n",
    "        pbounds={\n",
    "            \"n_estimators\":(100,500),\n",
    "            \"num_leaves\":(30,90),\n",
    "            \"min_child_samples\":(5,30),\n",
    "            \"subsample\":(0.6,1.0)\n",
    "        },\n",
    "        random_state=1234,\n",
    "        verbose=2\n",
    "    )\n",
    "    optimizer.maximize(n_iter=15, init_points=20)\n",
    "    \n",
    "    print(\"Final result:\", optimizer.max)"
   ]
  },
  {
   "cell_type": "code",
   "execution_count": 48,
   "metadata": {},
   "outputs": [
    {
     "name": "stdout",
     "output_type": "stream",
     "text": [
      "\u001b[94m--- Optimizing Light GBM ---\u001b[0m\n",
      "|   iter    |  target   | min_ch... | n_esti... | num_le... | subsample |\n",
      "-------------------------------------------------------------------------\n",
      "| \u001b[0m 1       \u001b[0m | \u001b[0m-3.98    \u001b[0m | \u001b[0m 9.788   \u001b[0m | \u001b[0m 348.8   \u001b[0m | \u001b[0m 56.26   \u001b[0m | \u001b[0m 0.9141  \u001b[0m |\n",
      "| \u001b[0m 2       \u001b[0m | \u001b[0m-4.015   \u001b[0m | \u001b[0m 24.5    \u001b[0m | \u001b[0m 209.0   \u001b[0m | \u001b[0m 46.59   \u001b[0m | \u001b[0m 0.9207  \u001b[0m |\n",
      "| \u001b[0m 3       \u001b[0m | \u001b[0m-3.982   \u001b[0m | \u001b[0m 28.95   \u001b[0m | \u001b[0m 450.4   \u001b[0m | \u001b[0m 51.47   \u001b[0m | \u001b[0m 0.8004  \u001b[0m |\n",
      "| \u001b[0m 4       \u001b[0m | \u001b[0m-3.986   \u001b[0m | \u001b[0m 22.09   \u001b[0m | \u001b[0m 385.1   \u001b[0m | \u001b[0m 52.22   \u001b[0m | \u001b[0m 0.8245  \u001b[0m |\n",
      "| \u001b[0m 5       \u001b[0m | \u001b[0m-4.024   \u001b[0m | \u001b[0m 17.58   \u001b[0m | \u001b[0m 105.5   \u001b[0m | \u001b[0m 76.37   \u001b[0m | \u001b[0m 0.9531  \u001b[0m |\n",
      "| \u001b[0m 6       \u001b[0m | \u001b[0m-4.019   \u001b[0m | \u001b[0m 14.12   \u001b[0m | \u001b[0m 346.2   \u001b[0m | \u001b[0m 34.52   \u001b[0m | \u001b[0m 0.7475  \u001b[0m |\n",
      "| \u001b[0m 7       \u001b[0m | \u001b[0m-3.993   \u001b[0m | \u001b[0m 28.33   \u001b[0m | \u001b[0m 360.6   \u001b[0m | \u001b[0m 53.83   \u001b[0m | \u001b[0m 0.9155  \u001b[0m |\n",
      "| \u001b[95m 8       \u001b[0m | \u001b[95m-3.972   \u001b[0m | \u001b[95m 12.92   \u001b[0m | \u001b[95m 327.2   \u001b[0m | \u001b[95m 82.15   \u001b[0m | \u001b[95m 0.7745  \u001b[0m |\n",
      "| \u001b[0m 9       \u001b[0m | \u001b[0m-3.995   \u001b[0m | \u001b[0m 25.05   \u001b[0m | \u001b[0m 157.5   \u001b[0m | \u001b[0m 72.26   \u001b[0m | \u001b[0m 0.8818  \u001b[0m |\n",
      "| \u001b[0m 10      \u001b[0m | \u001b[0m-3.972   \u001b[0m | \u001b[0m 10.47   \u001b[0m | \u001b[0m 469.9   \u001b[0m | \u001b[0m 56.53   \u001b[0m | \u001b[0m 0.9637  \u001b[0m |\n",
      "| \u001b[0m 11      \u001b[0m | \u001b[0m-4.078   \u001b[0m | \u001b[0m 6.495   \u001b[0m | \u001b[0m 173.7   \u001b[0m | \u001b[0m 32.84   \u001b[0m | \u001b[0m 0.87    \u001b[0m |\n",
      "| \u001b[0m 12      \u001b[0m | \u001b[0m-4.003   \u001b[0m | \u001b[0m 19.87   \u001b[0m | \u001b[0m 313.3   \u001b[0m | \u001b[0m 32.6    \u001b[0m | \u001b[0m 0.8246  \u001b[0m |\n",
      "| \u001b[0m 13      \u001b[0m | \u001b[0m-4.0     \u001b[0m | \u001b[0m 13.24   \u001b[0m | \u001b[0m 301.2   \u001b[0m | \u001b[0m 36.71   \u001b[0m | \u001b[0m 0.8429  \u001b[0m |\n",
      "| \u001b[0m 14      \u001b[0m | \u001b[0m-4.028   \u001b[0m | \u001b[0m 19.15   \u001b[0m | \u001b[0m 102.7   \u001b[0m | \u001b[0m 67.05   \u001b[0m | \u001b[0m 0.9648  \u001b[0m |\n",
      "| \u001b[95m 15      \u001b[0m | \u001b[95m-3.97    \u001b[0m | \u001b[95m 24.76   \u001b[0m | \u001b[95m 496.8   \u001b[0m | \u001b[95m 87.53   \u001b[0m | \u001b[95m 0.9168  \u001b[0m |\n",
      "| \u001b[95m 16      \u001b[0m | \u001b[95m-3.959   \u001b[0m | \u001b[95m 12.13   \u001b[0m | \u001b[95m 350.0   \u001b[0m | \u001b[95m 58.69   \u001b[0m | \u001b[95m 0.6783  \u001b[0m |\n",
      "| \u001b[0m 17      \u001b[0m | \u001b[0m-4.02    \u001b[0m | \u001b[0m 14.56   \u001b[0m | \u001b[0m 121.5   \u001b[0m | \u001b[0m 57.1    \u001b[0m | \u001b[0m 0.9928  \u001b[0m |\n",
      "| \u001b[0m 18      \u001b[0m | \u001b[0m-3.988   \u001b[0m | \u001b[0m 8.099   \u001b[0m | \u001b[0m 147.8   \u001b[0m | \u001b[0m 74.31   \u001b[0m | \u001b[0m 0.8349  \u001b[0m |\n",
      "| \u001b[0m 19      \u001b[0m | \u001b[0m-4.053   \u001b[0m | \u001b[0m 16.79   \u001b[0m | \u001b[0m 142.9   \u001b[0m | \u001b[0m 43.75   \u001b[0m | \u001b[0m 0.96    \u001b[0m |\n",
      "| \u001b[0m 20      \u001b[0m | \u001b[0m-4.021   \u001b[0m | \u001b[0m 15.42   \u001b[0m | \u001b[0m 314.3   \u001b[0m | \u001b[0m 30.37   \u001b[0m | \u001b[0m 0.7203  \u001b[0m |\n",
      "| \u001b[0m 21      \u001b[0m | \u001b[0m-3.976   \u001b[0m | \u001b[0m 16.75   \u001b[0m | \u001b[0m 347.9   \u001b[0m | \u001b[0m 69.91   \u001b[0m | \u001b[0m 0.6     \u001b[0m |\n",
      "| \u001b[0m 22      \u001b[0m | \u001b[0m-3.967   \u001b[0m | \u001b[0m 12.68   \u001b[0m | \u001b[0m 359.7   \u001b[0m | \u001b[0m 63.34   \u001b[0m | \u001b[0m 0.6     \u001b[0m |\n",
      "| \u001b[0m 23      \u001b[0m | \u001b[0m-3.972   \u001b[0m | \u001b[0m 19.37   \u001b[0m | \u001b[0m 485.6   \u001b[0m | \u001b[0m 74.92   \u001b[0m | \u001b[0m 0.9266  \u001b[0m |\n",
      "| \u001b[0m 24      \u001b[0m | \u001b[0m-3.992   \u001b[0m | \u001b[0m 25.78   \u001b[0m | \u001b[0m 469.4   \u001b[0m | \u001b[0m 65.43   \u001b[0m | \u001b[0m 0.8567  \u001b[0m |\n",
      "| \u001b[0m 25      \u001b[0m | \u001b[0m-3.965   \u001b[0m | \u001b[0m 8.71    \u001b[0m | \u001b[0m 493.7   \u001b[0m | \u001b[0m 85.32   \u001b[0m | \u001b[0m 0.7397  \u001b[0m |\n",
      "| \u001b[0m 26      \u001b[0m | \u001b[0m-3.978   \u001b[0m | \u001b[0m 15.66   \u001b[0m | \u001b[0m 480.6   \u001b[0m | \u001b[0m 90.0    \u001b[0m | \u001b[0m 0.6     \u001b[0m |\n",
      "| \u001b[95m 27      \u001b[0m | \u001b[95m-3.955   \u001b[0m | \u001b[95m 5.0     \u001b[0m | \u001b[95m 490.2   \u001b[0m | \u001b[95m 65.78   \u001b[0m | \u001b[95m 0.6     \u001b[0m |\n",
      "| \u001b[0m 28      \u001b[0m | \u001b[0m-3.975   \u001b[0m | \u001b[0m 13.63   \u001b[0m | \u001b[0m 499.4   \u001b[0m | \u001b[0m 65.46   \u001b[0m | \u001b[0m 0.8446  \u001b[0m |\n",
      "| \u001b[0m 29      \u001b[0m | \u001b[0m-3.982   \u001b[0m | \u001b[0m 5.0     \u001b[0m | \u001b[0m 487.5   \u001b[0m | \u001b[0m 49.66   \u001b[0m | \u001b[0m 0.6     \u001b[0m |\n",
      "| \u001b[0m 30      \u001b[0m | \u001b[0m-3.971   \u001b[0m | \u001b[0m 6.357   \u001b[0m | \u001b[0m 479.8   \u001b[0m | \u001b[0m 74.67   \u001b[0m | \u001b[0m 0.8672  \u001b[0m |\n",
      "| \u001b[0m 31      \u001b[0m | \u001b[0m-3.984   \u001b[0m | \u001b[0m 26.4    \u001b[0m | \u001b[0m 315.7   \u001b[0m | \u001b[0m 69.63   \u001b[0m | \u001b[0m 0.6     \u001b[0m |\n",
      "| \u001b[0m 32      \u001b[0m | \u001b[0m-3.983   \u001b[0m | \u001b[0m 8.712   \u001b[0m | \u001b[0m 309.8   \u001b[0m | \u001b[0m 88.43   \u001b[0m | \u001b[0m 0.8107  \u001b[0m |\n",
      "| \u001b[0m 33      \u001b[0m | \u001b[0m-3.992   \u001b[0m | \u001b[0m 5.0     \u001b[0m | \u001b[0m 453.3   \u001b[0m | \u001b[0m 41.82   \u001b[0m | \u001b[0m 0.6     \u001b[0m |\n",
      "| \u001b[0m 34      \u001b[0m | \u001b[0m-3.961   \u001b[0m | \u001b[0m 5.0     \u001b[0m | \u001b[0m 500.0   \u001b[0m | \u001b[0m 75.02   \u001b[0m | \u001b[0m 1.0     \u001b[0m |\n",
      "| \u001b[0m 35      \u001b[0m | \u001b[0m-3.97    \u001b[0m | \u001b[0m 29.83   \u001b[0m | \u001b[0m 326.4   \u001b[0m | \u001b[0m 89.98   \u001b[0m | \u001b[0m 0.6753  \u001b[0m |\n",
      "=========================================================================\n",
      "Final result: {'target': -3.955030698426286, 'params': {'min_child_samples': 5.0, 'n_estimators': 490.23543329860655, 'num_leaves': 65.78052355195761, 'subsample': 0.6}}\n"
     ]
    }
   ],
   "source": [
    "print(Colours.blue(\"--- Optimizing Light GBM ---\"))\n",
    "optimize_lgb(train, target)"
   ]
  },
  {
   "cell_type": "code",
   "execution_count": 49,
   "metadata": {},
   "outputs": [],
   "source": [
    "lgb = LGBMRegressor(\n",
    "        n_estimators=int(490.23543329860655),\n",
    "        num_leaves = int(65.78052355195761),\n",
    "        min_child_samples=int(5.0),\n",
    "        subsample = 0.6,\n",
    "        random_state = 42\n",
    "    )"
   ]
  },
  {
   "cell_type": "markdown",
   "metadata": {},
   "source": [
    "## Hyperparameter tuning of ExtremeGradientBoosting Regressor using Bayesian optimization"
   ]
  },
  {
   "cell_type": "code",
   "execution_count": 51,
   "metadata": {},
   "outputs": [],
   "source": [
    "def xgb_cv(n_estimators, max_depth, gamma, min_child_weight, subsample, data, target):\n",
    "    estimator = XGBRegressor(\n",
    "            n_estimators=n_estimators,\n",
    "            gamma=gamma,\n",
    "            min_child_weight=min_child_weight,\n",
    "            subsample=subsample,\n",
    "            random_state=2\n",
    "    )\n",
    "    cval = cross_val_score(estimator, data, target, scoring=rmse, cv=5)\n",
    "    \n",
    "    return cval.mean()"
   ]
  },
  {
   "cell_type": "code",
   "execution_count": 54,
   "metadata": {},
   "outputs": [],
   "source": [
    "def optimize_xgb(data, target):\n",
    "    def xgb_crossval(n_estimators, max_depth, gamma, min_child_weight, subsample):\n",
    "        return xgb_cv(\n",
    "            n_estimators=int(n_estimators),\n",
    "            max_depth=int(max_depth),\n",
    "            gamma=gamma,\n",
    "            min_child_weight=min_child_weight,\n",
    "            subsample=subsample,\n",
    "            data=data,\n",
    "            target=target,\n",
    "        )\n",
    "    optimizer = BayesianOptimization(\n",
    "            f=xgb_crossval,\n",
    "            pbounds={\n",
    "                \"n_estimators\":(150,500),\n",
    "                \"max_depth\": (1,20),\n",
    "                \"gamma\":(0,10),\n",
    "                \"min_child_weight\":(0,10),\n",
    "                \"subsample\":(0.8,1.0)\n",
    "                },\n",
    "            random_state=1234,\n",
    "            verbose=2\n",
    "      )\n",
    "    optimizer.maximize(n_iter=15 , init_points=10)\n",
    "    \n",
    "    \n",
    "    print('Final Result:', optimizer.max)"
   ]
  },
  {
   "cell_type": "code",
   "execution_count": 55,
   "metadata": {},
   "outputs": [
    {
     "name": "stdout",
     "output_type": "stream",
     "text": [
      "\u001b[91m--- Optimizing XGBoost ---\u001b[0m\n",
      "|   iter    |  target   |   gamma   | max_depth | min_ch... | n_esti... | subsample |\n",
      "-------------------------------------------------------------------------------------\n",
      "| \u001b[0m 1       \u001b[0m | \u001b[0m-4.244   \u001b[0m | \u001b[0m 1.915   \u001b[0m | \u001b[0m 12.82   \u001b[0m | \u001b[0m 4.377   \u001b[0m | \u001b[0m 424.9   \u001b[0m | \u001b[0m 0.956   \u001b[0m |\n",
      "| \u001b[0m 2       \u001b[0m | \u001b[0m-4.252   \u001b[0m | \u001b[0m 2.726   \u001b[0m | \u001b[0m 6.253   \u001b[0m | \u001b[0m 8.019   \u001b[0m | \u001b[0m 485.3   \u001b[0m | \u001b[0m 0.9752  \u001b[0m |\n",
      "| \u001b[0m 3       \u001b[0m | \u001b[0m-4.3     \u001b[0m | \u001b[0m 3.578   \u001b[0m | \u001b[0m 10.52   \u001b[0m | \u001b[0m 6.835   \u001b[0m | \u001b[0m 399.4   \u001b[0m | \u001b[0m 0.8741  \u001b[0m |\n",
      "| \u001b[0m 4       \u001b[0m | \u001b[0m-4.245   \u001b[0m | \u001b[0m 5.612   \u001b[0m | \u001b[0m 10.56   \u001b[0m | \u001b[0m 0.1377  \u001b[0m | \u001b[0m 420.5   \u001b[0m | \u001b[0m 0.9765  \u001b[0m |\n",
      "| \u001b[95m 5       \u001b[0m | \u001b[95m-4.226   \u001b[0m | \u001b[95m 3.649   \u001b[0m | \u001b[95m 12.69   \u001b[0m | \u001b[95m 0.7538  \u001b[0m | \u001b[95m 279.1   \u001b[0m | \u001b[95m 0.9866  \u001b[0m |\n",
      "| \u001b[0m 6       \u001b[0m | \u001b[0m-4.233   \u001b[0m | \u001b[0m 6.514   \u001b[0m | \u001b[0m 8.547   \u001b[0m | \u001b[0m 7.887   \u001b[0m | \u001b[0m 260.9   \u001b[0m | \u001b[0m 0.9136  \u001b[0m |\n",
      "| \u001b[95m 7       \u001b[0m | \u001b[95m-4.186   \u001b[0m | \u001b[95m 8.691   \u001b[0m | \u001b[95m 9.287   \u001b[0m | \u001b[95m 8.021   \u001b[0m | \u001b[95m 200.3   \u001b[0m | \u001b[95m 0.9409  \u001b[0m |\n",
      "| \u001b[0m 8       \u001b[0m | \u001b[0m-4.203   \u001b[0m | \u001b[0m 7.046   \u001b[0m | \u001b[0m 5.157   \u001b[0m | \u001b[0m 9.249   \u001b[0m | \u001b[0m 304.7   \u001b[0m | \u001b[0m 0.9819  \u001b[0m |\n",
      "| \u001b[0m 9       \u001b[0m | \u001b[0m-4.241   \u001b[0m | \u001b[0m 0.5981  \u001b[0m | \u001b[0m 4.501   \u001b[0m | \u001b[0m 0.4736  \u001b[0m | \u001b[0m 386.2   \u001b[0m | \u001b[0m 0.9189  \u001b[0m |\n",
      "| \u001b[0m 10      \u001b[0m | \u001b[0m-4.219   \u001b[0m | \u001b[0m 5.333   \u001b[0m | \u001b[0m 1.823   \u001b[0m | \u001b[0m 5.614   \u001b[0m | \u001b[0m 265.4   \u001b[0m | \u001b[0m 0.9006  \u001b[0m |\n",
      "| \u001b[0m 11      \u001b[0m | \u001b[0m-4.224   \u001b[0m | \u001b[0m 8.174   \u001b[0m | \u001b[0m 8.578   \u001b[0m | \u001b[0m 7.399   \u001b[0m | \u001b[0m 187.0   \u001b[0m | \u001b[0m 0.9264  \u001b[0m |\n",
      "| \u001b[0m 12      \u001b[0m | \u001b[0m-4.241   \u001b[0m | \u001b[0m 7.969   \u001b[0m | \u001b[0m 9.918   \u001b[0m | \u001b[0m 9.285   \u001b[0m | \u001b[0m 200.3   \u001b[0m | \u001b[0m 0.8726  \u001b[0m |\n",
      "| \u001b[0m 13      \u001b[0m | \u001b[0m-4.223   \u001b[0m | \u001b[0m 1.111   \u001b[0m | \u001b[0m 5.153   \u001b[0m | \u001b[0m 6.716   \u001b[0m | \u001b[0m 450.8   \u001b[0m | \u001b[0m 0.9595  \u001b[0m |\n",
      "| \u001b[0m 14      \u001b[0m | \u001b[0m-4.211   \u001b[0m | \u001b[0m 8.317   \u001b[0m | \u001b[0m 16.32   \u001b[0m | \u001b[0m 0.9797  \u001b[0m | \u001b[0m 283.3   \u001b[0m | \u001b[0m 0.9759  \u001b[0m |\n",
      "| \u001b[0m 15      \u001b[0m | \u001b[0m-4.257   \u001b[0m | \u001b[0m 8.472   \u001b[0m | \u001b[0m 6.517   \u001b[0m | \u001b[0m 6.877   \u001b[0m | \u001b[0m 167.2   \u001b[0m | \u001b[0m 0.8415  \u001b[0m |\n",
      "| \u001b[0m 16      \u001b[0m | \u001b[0m-4.236   \u001b[0m | \u001b[0m 8.48    \u001b[0m | \u001b[0m 1.792   \u001b[0m | \u001b[0m 0.8149  \u001b[0m | \u001b[0m 326.1   \u001b[0m | \u001b[0m 0.9536  \u001b[0m |\n",
      "| \u001b[0m 17      \u001b[0m | \u001b[0m-4.242   \u001b[0m | \u001b[0m 5.608   \u001b[0m | \u001b[0m 7.428   \u001b[0m | \u001b[0m 5.166   \u001b[0m | \u001b[0m 478.4   \u001b[0m | \u001b[0m 0.8213  \u001b[0m |\n",
      "| \u001b[0m 18      \u001b[0m | \u001b[0m-4.256   \u001b[0m | \u001b[0m 3.653   \u001b[0m | \u001b[0m 13.11   \u001b[0m | \u001b[0m 5.402   \u001b[0m | \u001b[0m 499.0   \u001b[0m | \u001b[0m 0.8603  \u001b[0m |\n",
      "| \u001b[0m 19      \u001b[0m | \u001b[0m-4.247   \u001b[0m | \u001b[0m 7.564   \u001b[0m | \u001b[0m 15.97   \u001b[0m | \u001b[0m 3.059   \u001b[0m | \u001b[0m 250.8   \u001b[0m | \u001b[0m 0.9221  \u001b[0m |\n",
      "| \u001b[0m 20      \u001b[0m | \u001b[0m-4.249   \u001b[0m | \u001b[0m 6.385   \u001b[0m | \u001b[0m 15.03   \u001b[0m | \u001b[0m 4.344   \u001b[0m | \u001b[0m 192.8   \u001b[0m | \u001b[0m 0.8045  \u001b[0m |\n",
      "| \u001b[0m 21      \u001b[0m | \u001b[0m-4.214   \u001b[0m | \u001b[0m 4.361   \u001b[0m | \u001b[0m 17.83   \u001b[0m | \u001b[0m 6.2     \u001b[0m | \u001b[0m 416.7   \u001b[0m | \u001b[0m 0.9801  \u001b[0m |\n",
      "| \u001b[0m 22      \u001b[0m | \u001b[0m-4.254   \u001b[0m | \u001b[0m 8.041   \u001b[0m | \u001b[0m 7.955   \u001b[0m | \u001b[0m 6.426   \u001b[0m | \u001b[0m 306.8   \u001b[0m | \u001b[0m 0.8517  \u001b[0m |\n",
      "| \u001b[0m 23      \u001b[0m | \u001b[0m-4.239   \u001b[0m | \u001b[0m 8.742   \u001b[0m | \u001b[0m 17.87   \u001b[0m | \u001b[0m 6.815   \u001b[0m | \u001b[0m 334.3   \u001b[0m | \u001b[0m 0.886   \u001b[0m |\n",
      "| \u001b[0m 24      \u001b[0m | \u001b[0m-4.216   \u001b[0m | \u001b[0m 8.451   \u001b[0m | \u001b[0m 19.22   \u001b[0m | \u001b[0m 3.176   \u001b[0m | \u001b[0m 151.6   \u001b[0m | \u001b[0m 0.9945  \u001b[0m |\n",
      "| \u001b[0m 25      \u001b[0m | \u001b[0m-4.242   \u001b[0m | \u001b[0m 4.261   \u001b[0m | \u001b[0m 5.69    \u001b[0m | \u001b[0m 8.07    \u001b[0m | \u001b[0m 303.4   \u001b[0m | \u001b[0m 0.9463  \u001b[0m |\n",
      "=====================================================================================\n",
      "Final Result: {'target': -4.185521147138113, 'params': {'gamma': 8.691273895612259, 'max_depth': 9.287295054017909, 'min_child_weight': 8.02147642080159, 'n_estimators': 200.3183885800976, 'subsample': 0.9408521942236671}}\n"
     ]
    }
   ],
   "source": [
    "print(Colours.red(\"--- Optimizing XGBoost ---\"))\n",
    "optimize_xgb(train, target)"
   ]
  },
  {
   "cell_type": "code",
   "execution_count": 58,
   "metadata": {},
   "outputs": [],
   "source": [
    "xgb = XGBRegressor(\n",
    "        n_estimators=int(200.3183885800976),\n",
    "        max_depth = int(9.287295054017909),\n",
    "        gamma = 8.691273895612259,\n",
    "        min_child_weight = 8.02147642080159,\n",
    "        subsample = 0.9408521942236671,\n",
    "        random_state = 42,\n",
    "    )"
   ]
  },
  {
   "cell_type": "markdown",
   "metadata": {},
   "source": [
    "## Hyperparameter tuning of ExtremeGradientBoosting and RandomForest Regressor using Bayesian optimization"
   ]
  },
  {
   "cell_type": "code",
   "execution_count": 79,
   "metadata": {},
   "outputs": [],
   "source": [
    "def xgb_cv(n_estimators, max_depth, gamma, min_child_weight, subsample, data, targets):\n",
    "    estimator = XGBRFRegressor(\n",
    "        n_estimators=n_estimators,\n",
    "        max_depth = max_depth,\n",
    "        gamma = gamma,\n",
    "        min_child_weight=min_child_weight,\n",
    "        subsample = subsample,\n",
    "        random_state = 2,\n",
    "    )\n",
    "    cval = cross_val_score(estimator, data, targets,\n",
    "                           scoring=rmse, cv=5)\n",
    "    return cval.mean()"
   ]
  },
  {
   "cell_type": "code",
   "execution_count": 82,
   "metadata": {},
   "outputs": [],
   "source": [
    "def optimize_xgb(data, targets):\n",
    "    def xgb_crossval(n_estimators, max_depth, gamma, min_child_weight, subsample):\n",
    "        return xgb_cv(\n",
    "            n_estimators=int(n_estimators),\n",
    "            max_depth = int(max_depth),\n",
    "            gamma = gamma,\n",
    "            min_child_weight=min_child_weight,\n",
    "            subsample=subsample,\n",
    "            data=data,\n",
    "            targets=targets,\n",
    "        )\n",
    "\n",
    "    optimizer = BayesianOptimization(\n",
    "        f=xgb_crossval,\n",
    "        pbounds={\n",
    "            \"n_estimators\": (200, 500),\n",
    "            \"max_depth\": (6,15),\n",
    "            \"gamma\": (0,10),\n",
    "            \"min_child_weight\": (0,10),\n",
    "            \"subsample\": (0.8,1.0)\n",
    "        },\n",
    "        random_state=1234,\n",
    "        verbose=2\n",
    "    )\n",
    "    optimizer.maximize(n_iter=15, init_points=10)\n",
    "\n",
    "    print(\"Final result:\", optimizer.max)"
   ]
  },
  {
   "cell_type": "code",
   "execution_count": 83,
   "metadata": {},
   "outputs": [
    {
     "name": "stdout",
     "output_type": "stream",
     "text": [
      "\u001b[91m--- Optimizing XGBoost RandomForest ---\u001b[0m\n",
      "|   iter    |  target   |   gamma   | max_depth | min_ch... | n_esti... | subsample |\n",
      "-------------------------------------------------------------------------------------\n",
      "| \u001b[0m 1       \u001b[0m | \u001b[0m-4.197   \u001b[0m | \u001b[0m 1.915   \u001b[0m | \u001b[0m 11.6    \u001b[0m | \u001b[0m 4.377   \u001b[0m | \u001b[0m 435.6   \u001b[0m | \u001b[0m 0.956   \u001b[0m |\n",
      "| \u001b[0m 2       \u001b[0m | \u001b[0m-4.504   \u001b[0m | \u001b[0m 2.726   \u001b[0m | \u001b[0m 8.488   \u001b[0m | \u001b[0m 8.019   \u001b[0m | \u001b[0m 487.4   \u001b[0m | \u001b[0m 0.9752  \u001b[0m |\n",
      "| \u001b[0m 3       \u001b[0m | \u001b[0m-4.265   \u001b[0m | \u001b[0m 3.578   \u001b[0m | \u001b[0m 10.51   \u001b[0m | \u001b[0m 6.835   \u001b[0m | \u001b[0m 413.8   \u001b[0m | \u001b[0m 0.8741  \u001b[0m |\n",
      "| \u001b[0m 4       \u001b[0m | \u001b[0m-4.287   \u001b[0m | \u001b[0m 5.612   \u001b[0m | \u001b[0m 10.53   \u001b[0m | \u001b[0m 0.1377  \u001b[0m | \u001b[0m 431.8   \u001b[0m | \u001b[0m 0.9765  \u001b[0m |\n",
      "| \u001b[0m 5       \u001b[0m | \u001b[0m-4.228   \u001b[0m | \u001b[0m 3.649   \u001b[0m | \u001b[0m 11.54   \u001b[0m | \u001b[0m 0.7538  \u001b[0m | \u001b[0m 310.6   \u001b[0m | \u001b[0m 0.9866  \u001b[0m |\n",
      "| \u001b[0m 6       \u001b[0m | \u001b[0m-4.364   \u001b[0m | \u001b[0m 6.514   \u001b[0m | \u001b[0m 9.575   \u001b[0m | \u001b[0m 7.887   \u001b[0m | \u001b[0m 295.1   \u001b[0m | \u001b[0m 0.9136  \u001b[0m |\n",
      "| \u001b[0m 7       \u001b[0m | \u001b[0m-4.381   \u001b[0m | \u001b[0m 8.691   \u001b[0m | \u001b[0m 9.926   \u001b[0m | \u001b[0m 8.021   \u001b[0m | \u001b[0m 243.1   \u001b[0m | \u001b[0m 0.9409  \u001b[0m |\n",
      "| \u001b[0m 8       \u001b[0m | \u001b[0m-4.643   \u001b[0m | \u001b[0m 7.046   \u001b[0m | \u001b[0m 7.969   \u001b[0m | \u001b[0m 9.249   \u001b[0m | \u001b[0m 332.6   \u001b[0m | \u001b[0m 0.9819  \u001b[0m |\n",
      "| \u001b[0m 9       \u001b[0m | \u001b[0m-4.605   \u001b[0m | \u001b[0m 0.5981  \u001b[0m | \u001b[0m 7.659   \u001b[0m | \u001b[0m 0.4736  \u001b[0m | \u001b[0m 402.5   \u001b[0m | \u001b[0m 0.9189  \u001b[0m |\n",
      "| \u001b[0m 10      \u001b[0m | \u001b[0m-4.754   \u001b[0m | \u001b[0m 5.333   \u001b[0m | \u001b[0m 6.39    \u001b[0m | \u001b[0m 5.614   \u001b[0m | \u001b[0m 298.9   \u001b[0m | \u001b[0m 0.9006  \u001b[0m |\n",
      "| \u001b[0m 11      \u001b[0m | \u001b[0m-4.585   \u001b[0m | \u001b[0m 5.153   \u001b[0m | \u001b[0m 7.633   \u001b[0m | \u001b[0m 3.77    \u001b[0m | \u001b[0m 222.8   \u001b[0m | \u001b[0m 0.8525  \u001b[0m |\n",
      "| \u001b[95m 12      \u001b[0m | \u001b[95m-4.113   \u001b[0m | \u001b[95m 3.824   \u001b[0m | \u001b[95m 13.39   \u001b[0m | \u001b[95m 4.05    \u001b[0m | \u001b[95m 424.6   \u001b[0m | \u001b[95m 0.9551  \u001b[0m |\n",
      "| \u001b[0m 13      \u001b[0m | \u001b[0m-4.62    \u001b[0m | \u001b[0m 1.111   \u001b[0m | \u001b[0m 7.967   \u001b[0m | \u001b[0m 6.716   \u001b[0m | \u001b[0m 457.8   \u001b[0m | \u001b[0m 0.9595  \u001b[0m |\n",
      "| \u001b[0m 14      \u001b[0m | \u001b[0m-4.124   \u001b[0m | \u001b[0m 8.317   \u001b[0m | \u001b[0m 13.26   \u001b[0m | \u001b[0m 0.9797  \u001b[0m | \u001b[0m 314.2   \u001b[0m | \u001b[0m 0.9759  \u001b[0m |\n",
      "| \u001b[0m 15      \u001b[0m | \u001b[0m-4.164   \u001b[0m | \u001b[0m 1.646   \u001b[0m | \u001b[0m 12.86   \u001b[0m | \u001b[0m 6.113   \u001b[0m | \u001b[0m 429.1   \u001b[0m | \u001b[0m 0.9364  \u001b[0m |\n",
      "| \u001b[0m 16      \u001b[0m | \u001b[0m-4.467   \u001b[0m | \u001b[0m 4.029   \u001b[0m | \u001b[0m 8.161   \u001b[0m | \u001b[0m 7.494   \u001b[0m | \u001b[0m 423.5   \u001b[0m | \u001b[0m 0.8717  \u001b[0m |\n",
      "| \u001b[0m 17      \u001b[0m | \u001b[0m-4.141   \u001b[0m | \u001b[0m 6.085   \u001b[0m | \u001b[0m 15.0    \u001b[0m | \u001b[0m 4.219   \u001b[0m | \u001b[0m 428.5   \u001b[0m | \u001b[0m 1.0     \u001b[0m |\n",
      "| \u001b[95m 18      \u001b[0m | \u001b[95m-4.059   \u001b[0m | \u001b[95m 0.3548  \u001b[0m | \u001b[95m 14.98   \u001b[0m | \u001b[95m 0.4963  \u001b[0m | \u001b[95m 425.6   \u001b[0m | \u001b[95m 0.937   \u001b[0m |\n",
      "| \u001b[95m 19      \u001b[0m | \u001b[95m-4.031   \u001b[0m | \u001b[95m 0.1277  \u001b[0m | \u001b[95m 14.89   \u001b[0m | \u001b[95m 0.2884  \u001b[0m | \u001b[95m 417.7   \u001b[0m | \u001b[95m 0.851   \u001b[0m |\n",
      "| \u001b[0m 20      \u001b[0m | \u001b[0m-4.033   \u001b[0m | \u001b[0m 6.697   \u001b[0m | \u001b[0m 14.25   \u001b[0m | \u001b[0m 1.288   \u001b[0m | \u001b[0m 418.0   \u001b[0m | \u001b[0m 0.8513  \u001b[0m |\n",
      "| \u001b[0m 21      \u001b[0m | \u001b[0m-4.167   \u001b[0m | \u001b[0m 9.74    \u001b[0m | \u001b[0m 15.0    \u001b[0m | \u001b[0m 10.0    \u001b[0m | \u001b[0m 285.4   \u001b[0m | \u001b[0m 0.9515  \u001b[0m |\n",
      "| \u001b[0m 22      \u001b[0m | \u001b[0m-4.236   \u001b[0m | \u001b[0m 0.0     \u001b[0m | \u001b[0m 11.3    \u001b[0m | \u001b[0m 10.0    \u001b[0m | \u001b[0m 280.4   \u001b[0m | \u001b[0m 0.8     \u001b[0m |\n",
      "| \u001b[0m 23      \u001b[0m | \u001b[0m-4.044   \u001b[0m | \u001b[0m 10.0    \u001b[0m | \u001b[0m 15.0    \u001b[0m | \u001b[0m 0.0     \u001b[0m | \u001b[0m 277.6   \u001b[0m | \u001b[0m 0.9272  \u001b[0m |\n",
      "| \u001b[0m 24      \u001b[0m | \u001b[0m-4.807   \u001b[0m | \u001b[0m 10.0    \u001b[0m | \u001b[0m 6.637   \u001b[0m | \u001b[0m 1.99    \u001b[0m | \u001b[0m 273.5   \u001b[0m | \u001b[0m 1.0     \u001b[0m |\n",
      "| \u001b[95m 25      \u001b[0m | \u001b[95m-4.006   \u001b[0m | \u001b[95m 8.17    \u001b[0m | \u001b[95m 15.0    \u001b[0m | \u001b[95m 0.0     \u001b[0m | \u001b[95m 284.7   \u001b[0m | \u001b[95m 0.8     \u001b[0m |\n",
      "=====================================================================================\n",
      "Final result: {'target': -4.006087036989607, 'params': {'gamma': 8.16966206019828, 'max_depth': 15.0, 'min_child_weight': 0.0, 'n_estimators': 284.6733469057235, 'subsample': 0.8}}\n"
     ]
    }
   ],
   "source": [
    "print(Colours.red(\"--- Optimizing XGBoost RandomForest ---\"))\n",
    "optimize_xgb(train, target)"
   ]
  },
  {
   "cell_type": "code",
   "execution_count": 84,
   "metadata": {},
   "outputs": [],
   "source": [
    "xgbrf = XGBRFRegressor(\n",
    "        n_estimators=int(284.6733469057235),\n",
    "        max_depth = int(15.0),\n",
    "        gamma = 8.16966206019828,\n",
    "        min_child_weight=0.0,\n",
    "        subsample = 0.8,\n",
    "        random_state = 42,\n",
    "    )"
   ]
  },
  {
   "cell_type": "markdown",
   "metadata": {},
   "source": [
    "## Stacking all the models "
   ]
  },
  {
   "cell_type": "code",
   "execution_count": 85,
   "metadata": {},
   "outputs": [],
   "source": [
    "estimators = [('etc', etc), ('rfc', rfc), ('xgb', xgb), ('lgb', lgb), ('xgbrf', xgbrf)]\n",
    "\n",
    "model = StackingRegressor(estimators=estimators)"
   ]
  },
  {
   "cell_type": "code",
   "execution_count": 87,
   "metadata": {},
   "outputs": [
    {
     "data": {
      "text/plain": [
       "array([-3.57868487, -3.62815384, -3.8190788 , -3.77845183, -3.72005502])"
      ]
     },
     "execution_count": 87,
     "metadata": {},
     "output_type": "execute_result"
    }
   ],
   "source": [
    "scores = cross_val_score(model, train, target, cv = 5, scoring = rmse)\n",
    "\n",
    "scores"
   ]
  },
  {
   "cell_type": "code",
   "execution_count": 88,
   "metadata": {},
   "outputs": [
    {
     "data": {
      "text/plain": [
       "-3.704884871290338"
      ]
     },
     "execution_count": 88,
     "metadata": {},
     "output_type": "execute_result"
    }
   ],
   "source": [
    "scores.mean()"
   ]
  },
  {
   "cell_type": "markdown",
   "metadata": {},
   "source": [
    "## Checking the model performance by ploting the Learning Curve"
   ]
  },
  {
   "cell_type": "code",
   "execution_count": 96,
   "metadata": {},
   "outputs": [],
   "source": [
    "from sklearn.model_selection import learning_curve\n",
    "x_train = train.values\n",
    "y_train = target.values"
   ]
  },
  {
   "cell_type": "code",
   "execution_count": 100,
   "metadata": {},
   "outputs": [],
   "source": [
    "train_sizes, train_scores, valid_scores = learning_curve(\n",
    "model , x_train, y_train, train_sizes=np.linspace(0.01, 1.0, 6), scoring='neg_root_mean_squared_error', cv=5)"
   ]
  },
  {
   "cell_type": "code",
   "execution_count": 101,
   "metadata": {},
   "outputs": [
    {
     "name": "stdout",
     "output_type": "stream",
     "text": [
      "Mean training scores\n",
      "\n",
      " 73      3.336721\n",
      "1521    1.389713\n",
      "2970    1.520303\n",
      "4418    1.429074\n",
      "5867    1.369761\n",
      "7316    1.303635\n",
      "dtype: float64\n",
      "\n",
      " --------------------\n",
      "\n",
      "Mean valid scores\n",
      "\n",
      " 73      5.669373\n",
      "1521    4.242629\n",
      "2970    3.990072\n",
      "4418    3.900751\n",
      "5867    3.784567\n",
      "7316    3.703136\n",
      "dtype: float64\n"
     ]
    }
   ],
   "source": [
    "train_scores_mean = -train_scores.mean(axis = 1)\n",
    "valid_scores_mean = -valid_scores.mean(axis = 1)\n",
    "print('Mean training scores\\n\\n', pd.Series(train_scores_mean, index = train_sizes))\n",
    "print('\\n', '-' * 20) # separator\n",
    "print('\\nMean valid scores\\n\\n',pd.Series(valid_scores_mean, index = train_sizes))"
   ]
  },
  {
   "cell_type": "code",
   "execution_count": 102,
   "metadata": {},
   "outputs": [
    {
     "data": {
      "text/plain": [
       "<matplotlib.legend.Legend at 0x12fc0536808>"
      ]
     },
     "execution_count": 102,
     "metadata": {},
     "output_type": "execute_result"
    },
    {
     "data": {
      "image/png": "[encoded data removed]",
      "text/plain": [
       "<Figure size 576x396 with 1 Axes>"
      ]
     },
     "metadata": {},
     "output_type": "display_data"
    }
   ],
   "source": [
    "plt.style.use('seaborn')\n",
    "plt.plot(train_sizes, train_scores_mean, label = 'Training error')\n",
    "plt.plot(train_sizes, valid_scores_mean, label = 'Validation error')\n",
    "plt.ylabel('RMSE', fontsize = 14)\n",
    "plt.xlabel('Training set size', fontsize = 14)\n",
    "plt.title('Learning curves for regression model', fontsize = 18, y = 1.03)\n",
    "plt.legend()"
   ]
  },
  {
   "cell_type": "markdown",
   "metadata": {},
   "source": [
    "## The Model Accuracy(RMSE) is 3.704"
   ]
  },
  {
   "cell_type": "code",
   "execution_count": null,
   "metadata": {},
   "outputs": [],
   "source": []
  }
 ],
 "metadata": {
  "kernelspec": {
   "display_name": "Python 3",
   "language": "python",
   "name": "python3"
  },
  "language_info": {
   "codemirror_mode": {
    "name": "ipython",
    "version": 3
   },
   "file_extension": ".py",
   "mimetype": "text/x-python",
   "name": "python",
   "nbconvert_exporter": "python",
   "pygments_lexer": "ipython3",
   "version": "3.7.6"
  }
 },
 "nbformat": 4,
 "nbformat_minor": 4
}
